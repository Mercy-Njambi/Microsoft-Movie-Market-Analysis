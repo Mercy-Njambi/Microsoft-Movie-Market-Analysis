{
 "cells": [
  {
   "cell_type": "markdown",
   "metadata": {},
   "source": [
    "## Author : Mercy Njambi Mukundi"
   ]
  },
  {
   "cell_type": "markdown",
   "metadata": {},
   "source": [
    "# *1. Introduction*"
   ]
  },
  {
   "cell_type": "markdown",
   "metadata": {},
   "source": [
    "##  1.1 Overview"
   ]
  },
  {
   "cell_type": "markdown",
   "metadata": {},
   "source": [
    "The goal of the project is to use exploratory data analysis to generate insights for Microsoft. Microsoft wants to venture into creating original video content, hence, are opening a new movie studio. Microsoft would like actionable insights that the head of it's new movie studio can use to help decide what type of films to create."
   ]
  },
  {
   "cell_type": "markdown",
   "metadata": {},
   "source": [
    "## 1.2 Objectives"
   ]
  },
  {
   "cell_type": "markdown",
   "metadata": {},
   "source": [
    "1. Analyze the types of films are currently doing the best at the box office.\n",
    "\n",
    "This objective can be met by following the following steps:\n",
    "- Data selection\n",
    "- Data cleaning\n",
    "- Data analysis\n",
    "- Data visualization\n"
   ]
  },
  {
   "cell_type": "markdown",
   "metadata": {},
   "source": [
    "## 1.3 Questions to answer"
   ]
  },
  {
   "cell_type": "markdown",
   "metadata": {},
   "source": [
    "-  What type of films are currently doing the best at the box office?\n",
    "    -      a) What films are the highest grossing in the box office?\n",
    "    -  b) What are the highest rated movies in the box office?\n",
    "    -  c)What are the genres of the highest grosssing and highest rated movies in the box office?\n",
    "    - d) Does rating affect movie revenue?\n",
    "    - e) Does budget affect movie profits?\n",
    "    - f) Is there a best time to debut a movie? \n"
   ]
  },
  {
   "cell_type": "markdown",
   "metadata": {},
   "source": [
    "# *2. Data wrangling*"
   ]
  },
  {
   "cell_type": "markdown",
   "metadata": {},
   "source": [
    "## 2.1 Data Description"
   ]
  },
  {
   "cell_type": "markdown",
   "metadata": {},
   "source": [
    "The data files used for this project are:\n",
    "1. tn.movie_budget.csv\n",
    "2. tmdb.movies.csv\n",
    "3. title.basics.csv\n",
    "4. name.basics.csv\n",
    "5. title.crew.csv\n",
    "\n",
    "The datasets are extracted from the following sites:\n",
    "\n",
    "- Box Office.\n",
    "- IMDB.\n",
    "- Rotten Tomatoes.\n",
    "- TheMovieDB.\n",
    "- The Numbers.\n"
   ]
  },
  {
   "cell_type": "markdown",
   "metadata": {},
   "source": [
    "## 2.2 Loading Libraries and Datasets"
   ]
  },
  {
   "cell_type": "code",
   "execution_count": 1,
   "metadata": {},
   "outputs": [],
   "source": [
    "# importing the libraries\n",
    "\n",
    "import numpy as np\n",
    "import pandas as pd\n",
    "import matplotlib.pyplot as plt\n",
    "import seaborn as sns\n",
    "from collections import Counter\n",
    "\n",
    "%matplotlib inline"
   ]
  },
  {
   "cell_type": "code",
   "execution_count": 2,
   "metadata": {},
   "outputs": [],
   "source": [
    "# reading the datasets into a dataframe\n",
    "\n",
    "df_name = pd.read_csv('DATA/name.basics.csv')\n",
    "df_budget = pd.read_csv(\"DATA/tn.movie_budgets.csv\")\n",
    "df_ratings = pd.read_csv('DATA/tmdb.movies.csv', index_col=0)\n",
    "df_genres = pd.read_csv(\"DATA/title.basics.csv\")\n",
    "df_crew = pd.read_csv('DATA/title.crew.csv')"
   ]
  },
  {
   "cell_type": "markdown",
   "metadata": {},
   "source": [
    "### 2.2.1 Previewing the Datasets"
   ]
  },
  {
   "cell_type": "code",
   "execution_count": 3,
   "metadata": {},
   "outputs": [
    {
     "data": {
      "text/html": [
       "<div>\n",
       "<style scoped>\n",
       "    .dataframe tbody tr th:only-of-type {\n",
       "        vertical-align: middle;\n",
       "    }\n",
       "\n",
       "    .dataframe tbody tr th {\n",
       "        vertical-align: top;\n",
       "    }\n",
       "\n",
       "    .dataframe thead th {\n",
       "        text-align: right;\n",
       "    }\n",
       "</style>\n",
       "<table border=\"1\" class=\"dataframe\">\n",
       "  <thead>\n",
       "    <tr style=\"text-align: right;\">\n",
       "      <th></th>\n",
       "      <th>nconst</th>\n",
       "      <th>primary_name</th>\n",
       "      <th>birth_year</th>\n",
       "      <th>death_year</th>\n",
       "      <th>primary_profession</th>\n",
       "      <th>known_for_titles</th>\n",
       "    </tr>\n",
       "  </thead>\n",
       "  <tbody>\n",
       "    <tr>\n",
       "      <th>0</th>\n",
       "      <td>nm0061671</td>\n",
       "      <td>Mary Ellen Bauder</td>\n",
       "      <td>NaN</td>\n",
       "      <td>NaN</td>\n",
       "      <td>miscellaneous,production_manager,producer</td>\n",
       "      <td>tt0837562,tt2398241,tt0844471,tt0118553</td>\n",
       "    </tr>\n",
       "    <tr>\n",
       "      <th>1</th>\n",
       "      <td>nm0061865</td>\n",
       "      <td>Joseph Bauer</td>\n",
       "      <td>NaN</td>\n",
       "      <td>NaN</td>\n",
       "      <td>composer,music_department,sound_department</td>\n",
       "      <td>tt0896534,tt6791238,tt0287072,tt1682940</td>\n",
       "    </tr>\n",
       "    <tr>\n",
       "      <th>2</th>\n",
       "      <td>nm0062070</td>\n",
       "      <td>Bruce Baum</td>\n",
       "      <td>NaN</td>\n",
       "      <td>NaN</td>\n",
       "      <td>miscellaneous,actor,writer</td>\n",
       "      <td>tt1470654,tt0363631,tt0104030,tt0102898</td>\n",
       "    </tr>\n",
       "  </tbody>\n",
       "</table>\n",
       "</div>"
      ],
      "text/plain": [
       "      nconst       primary_name  birth_year  death_year  \\\n",
       "0  nm0061671  Mary Ellen Bauder         NaN         NaN   \n",
       "1  nm0061865       Joseph Bauer         NaN         NaN   \n",
       "2  nm0062070         Bruce Baum         NaN         NaN   \n",
       "\n",
       "                           primary_profession  \\\n",
       "0   miscellaneous,production_manager,producer   \n",
       "1  composer,music_department,sound_department   \n",
       "2                  miscellaneous,actor,writer   \n",
       "\n",
       "                          known_for_titles  \n",
       "0  tt0837562,tt2398241,tt0844471,tt0118553  \n",
       "1  tt0896534,tt6791238,tt0287072,tt1682940  \n",
       "2  tt1470654,tt0363631,tt0104030,tt0102898  "
      ]
     },
     "execution_count": 3,
     "metadata": {},
     "output_type": "execute_result"
    }
   ],
   "source": [
    "# previewing the first dataset\n",
    "\n",
    "df_name.head(3)"
   ]
  },
  {
   "cell_type": "code",
   "execution_count": 4,
   "metadata": {},
   "outputs": [
    {
     "data": {
      "text/html": [
       "<div>\n",
       "<style scoped>\n",
       "    .dataframe tbody tr th:only-of-type {\n",
       "        vertical-align: middle;\n",
       "    }\n",
       "\n",
       "    .dataframe tbody tr th {\n",
       "        vertical-align: top;\n",
       "    }\n",
       "\n",
       "    .dataframe thead th {\n",
       "        text-align: right;\n",
       "    }\n",
       "</style>\n",
       "<table border=\"1\" class=\"dataframe\">\n",
       "  <thead>\n",
       "    <tr style=\"text-align: right;\">\n",
       "      <th></th>\n",
       "      <th>id</th>\n",
       "      <th>release_date</th>\n",
       "      <th>movie</th>\n",
       "      <th>production_budget</th>\n",
       "      <th>domestic_gross</th>\n",
       "      <th>worldwide_gross</th>\n",
       "    </tr>\n",
       "  </thead>\n",
       "  <tbody>\n",
       "    <tr>\n",
       "      <th>0</th>\n",
       "      <td>1</td>\n",
       "      <td>18-Dec-09</td>\n",
       "      <td>Avatar</td>\n",
       "      <td>$425,000,000</td>\n",
       "      <td>$760,507,625</td>\n",
       "      <td>$2,776,345,279</td>\n",
       "    </tr>\n",
       "    <tr>\n",
       "      <th>1</th>\n",
       "      <td>2</td>\n",
       "      <td>20-May-11</td>\n",
       "      <td>Pirates of the Caribbean: On Stranger Tides</td>\n",
       "      <td>$410,600,000</td>\n",
       "      <td>$241,063,875</td>\n",
       "      <td>$1,045,663,875</td>\n",
       "    </tr>\n",
       "    <tr>\n",
       "      <th>2</th>\n",
       "      <td>3</td>\n",
       "      <td>7-Jun-19</td>\n",
       "      <td>Dark Phoenix</td>\n",
       "      <td>$350,000,000</td>\n",
       "      <td>$42,762,350</td>\n",
       "      <td>$149,762,350</td>\n",
       "    </tr>\n",
       "  </tbody>\n",
       "</table>\n",
       "</div>"
      ],
      "text/plain": [
       "   id release_date                                        movie  \\\n",
       "0   1    18-Dec-09                                       Avatar   \n",
       "1   2    20-May-11  Pirates of the Caribbean: On Stranger Tides   \n",
       "2   3     7-Jun-19                                 Dark Phoenix   \n",
       "\n",
       "  production_budget domestic_gross  worldwide_gross  \n",
       "0     $425,000,000   $760,507,625   $2,776,345,279   \n",
       "1     $410,600,000   $241,063,875   $1,045,663,875   \n",
       "2     $350,000,000    $42,762,350     $149,762,350   "
      ]
     },
     "execution_count": 4,
     "metadata": {},
     "output_type": "execute_result"
    }
   ],
   "source": [
    "# previewing the second dataset\n",
    "\n",
    "df_budget.head(3)"
   ]
  },
  {
   "cell_type": "code",
   "execution_count": 5,
   "metadata": {},
   "outputs": [
    {
     "data": {
      "text/html": [
       "<div>\n",
       "<style scoped>\n",
       "    .dataframe tbody tr th:only-of-type {\n",
       "        vertical-align: middle;\n",
       "    }\n",
       "\n",
       "    .dataframe tbody tr th {\n",
       "        vertical-align: top;\n",
       "    }\n",
       "\n",
       "    .dataframe thead th {\n",
       "        text-align: right;\n",
       "    }\n",
       "</style>\n",
       "<table border=\"1\" class=\"dataframe\">\n",
       "  <thead>\n",
       "    <tr style=\"text-align: right;\">\n",
       "      <th></th>\n",
       "      <th>genre_ids</th>\n",
       "      <th>id</th>\n",
       "      <th>original_language</th>\n",
       "      <th>original_title</th>\n",
       "      <th>popularity</th>\n",
       "      <th>release_date</th>\n",
       "      <th>title</th>\n",
       "      <th>vote_average</th>\n",
       "      <th>vote_count</th>\n",
       "    </tr>\n",
       "  </thead>\n",
       "  <tbody>\n",
       "    <tr>\n",
       "      <th>0</th>\n",
       "      <td>[12, 14, 10751]</td>\n",
       "      <td>12444</td>\n",
       "      <td>en</td>\n",
       "      <td>Harry Potter and the Deathly Hallows: Part 1</td>\n",
       "      <td>33.533</td>\n",
       "      <td>2010-11-19</td>\n",
       "      <td>Harry Potter and the Deathly Hallows: Part 1</td>\n",
       "      <td>7.7</td>\n",
       "      <td>10788</td>\n",
       "    </tr>\n",
       "    <tr>\n",
       "      <th>1</th>\n",
       "      <td>[14, 12, 16, 10751]</td>\n",
       "      <td>10191</td>\n",
       "      <td>en</td>\n",
       "      <td>How to Train Your Dragon</td>\n",
       "      <td>28.734</td>\n",
       "      <td>2010-03-26</td>\n",
       "      <td>How to Train Your Dragon</td>\n",
       "      <td>7.7</td>\n",
       "      <td>7610</td>\n",
       "    </tr>\n",
       "    <tr>\n",
       "      <th>2</th>\n",
       "      <td>[12, 28, 878]</td>\n",
       "      <td>10138</td>\n",
       "      <td>en</td>\n",
       "      <td>Iron Man 2</td>\n",
       "      <td>28.515</td>\n",
       "      <td>2010-05-07</td>\n",
       "      <td>Iron Man 2</td>\n",
       "      <td>6.8</td>\n",
       "      <td>12368</td>\n",
       "    </tr>\n",
       "  </tbody>\n",
       "</table>\n",
       "</div>"
      ],
      "text/plain": [
       "             genre_ids     id original_language  \\\n",
       "0      [12, 14, 10751]  12444                en   \n",
       "1  [14, 12, 16, 10751]  10191                en   \n",
       "2        [12, 28, 878]  10138                en   \n",
       "\n",
       "                                 original_title  popularity release_date  \\\n",
       "0  Harry Potter and the Deathly Hallows: Part 1      33.533   2010-11-19   \n",
       "1                      How to Train Your Dragon      28.734   2010-03-26   \n",
       "2                                    Iron Man 2      28.515   2010-05-07   \n",
       "\n",
       "                                          title  vote_average  vote_count  \n",
       "0  Harry Potter and the Deathly Hallows: Part 1           7.7       10788  \n",
       "1                      How to Train Your Dragon           7.7        7610  \n",
       "2                                    Iron Man 2           6.8       12368  "
      ]
     },
     "execution_count": 5,
     "metadata": {},
     "output_type": "execute_result"
    }
   ],
   "source": [
    "# previewing the third datasets\n",
    "\n",
    "df_ratings.head(3)"
   ]
  },
  {
   "cell_type": "code",
   "execution_count": 6,
   "metadata": {},
   "outputs": [
    {
     "data": {
      "text/html": [
       "<div>\n",
       "<style scoped>\n",
       "    .dataframe tbody tr th:only-of-type {\n",
       "        vertical-align: middle;\n",
       "    }\n",
       "\n",
       "    .dataframe tbody tr th {\n",
       "        vertical-align: top;\n",
       "    }\n",
       "\n",
       "    .dataframe thead th {\n",
       "        text-align: right;\n",
       "    }\n",
       "</style>\n",
       "<table border=\"1\" class=\"dataframe\">\n",
       "  <thead>\n",
       "    <tr style=\"text-align: right;\">\n",
       "      <th></th>\n",
       "      <th>tconst</th>\n",
       "      <th>primary_title</th>\n",
       "      <th>original_title</th>\n",
       "      <th>start_year</th>\n",
       "      <th>runtime_minutes</th>\n",
       "      <th>genres</th>\n",
       "    </tr>\n",
       "  </thead>\n",
       "  <tbody>\n",
       "    <tr>\n",
       "      <th>0</th>\n",
       "      <td>tt0063540</td>\n",
       "      <td>Sunghursh</td>\n",
       "      <td>Sunghursh</td>\n",
       "      <td>2013</td>\n",
       "      <td>175.0</td>\n",
       "      <td>Action,Crime,Drama</td>\n",
       "    </tr>\n",
       "    <tr>\n",
       "      <th>1</th>\n",
       "      <td>tt0066787</td>\n",
       "      <td>One Day Before the Rainy Season</td>\n",
       "      <td>Ashad Ka Ek Din</td>\n",
       "      <td>2019</td>\n",
       "      <td>114.0</td>\n",
       "      <td>Biography,Drama</td>\n",
       "    </tr>\n",
       "    <tr>\n",
       "      <th>2</th>\n",
       "      <td>tt0069049</td>\n",
       "      <td>The Other Side of the Wind</td>\n",
       "      <td>The Other Side of the Wind</td>\n",
       "      <td>2018</td>\n",
       "      <td>122.0</td>\n",
       "      <td>Drama</td>\n",
       "    </tr>\n",
       "  </tbody>\n",
       "</table>\n",
       "</div>"
      ],
      "text/plain": [
       "      tconst                    primary_title              original_title  \\\n",
       "0  tt0063540                        Sunghursh                   Sunghursh   \n",
       "1  tt0066787  One Day Before the Rainy Season             Ashad Ka Ek Din   \n",
       "2  tt0069049       The Other Side of the Wind  The Other Side of the Wind   \n",
       "\n",
       "   start_year  runtime_minutes              genres  \n",
       "0        2013            175.0  Action,Crime,Drama  \n",
       "1        2019            114.0     Biography,Drama  \n",
       "2        2018            122.0               Drama  "
      ]
     },
     "execution_count": 6,
     "metadata": {},
     "output_type": "execute_result"
    }
   ],
   "source": [
    "# previewing the fourth dataset\n",
    "\n",
    "df_genres.head(3)"
   ]
  },
  {
   "cell_type": "code",
   "execution_count": 7,
   "metadata": {},
   "outputs": [
    {
     "data": {
      "text/html": [
       "<div>\n",
       "<style scoped>\n",
       "    .dataframe tbody tr th:only-of-type {\n",
       "        vertical-align: middle;\n",
       "    }\n",
       "\n",
       "    .dataframe tbody tr th {\n",
       "        vertical-align: top;\n",
       "    }\n",
       "\n",
       "    .dataframe thead th {\n",
       "        text-align: right;\n",
       "    }\n",
       "</style>\n",
       "<table border=\"1\" class=\"dataframe\">\n",
       "  <thead>\n",
       "    <tr style=\"text-align: right;\">\n",
       "      <th></th>\n",
       "      <th>tconst</th>\n",
       "      <th>directors</th>\n",
       "      <th>writers</th>\n",
       "    </tr>\n",
       "  </thead>\n",
       "  <tbody>\n",
       "    <tr>\n",
       "      <th>0</th>\n",
       "      <td>tt0285252</td>\n",
       "      <td>nm0899854</td>\n",
       "      <td>nm0899854</td>\n",
       "    </tr>\n",
       "    <tr>\n",
       "      <th>1</th>\n",
       "      <td>tt0438973</td>\n",
       "      <td>NaN</td>\n",
       "      <td>nm0175726,nm1802864</td>\n",
       "    </tr>\n",
       "    <tr>\n",
       "      <th>2</th>\n",
       "      <td>tt0462036</td>\n",
       "      <td>nm1940585</td>\n",
       "      <td>nm1940585</td>\n",
       "    </tr>\n",
       "  </tbody>\n",
       "</table>\n",
       "</div>"
      ],
      "text/plain": [
       "      tconst  directors              writers\n",
       "0  tt0285252  nm0899854            nm0899854\n",
       "1  tt0438973        NaN  nm0175726,nm1802864\n",
       "2  tt0462036  nm1940585            nm1940585"
      ]
     },
     "execution_count": 7,
     "metadata": {},
     "output_type": "execute_result"
    }
   ],
   "source": [
    "# previewing the fifth dataset\n",
    "\n",
    "df_crew.head(3)"
   ]
  },
  {
   "cell_type": "markdown",
   "metadata": {},
   "source": [
    "### 2.2.2 Accessing Information About the Datasets"
   ]
  },
  {
   "cell_type": "code",
   "execution_count": 8,
   "metadata": {},
   "outputs": [
    {
     "name": "stdout",
     "output_type": "stream",
     "text": [
      "<class 'pandas.core.frame.DataFrame'>\n",
      "RangeIndex: 606648 entries, 0 to 606647\n",
      "Data columns (total 6 columns):\n",
      " #   Column              Non-Null Count   Dtype  \n",
      "---  ------              --------------   -----  \n",
      " 0   nconst              606648 non-null  object \n",
      " 1   primary_name        606648 non-null  object \n",
      " 2   birth_year          82736 non-null   float64\n",
      " 3   death_year          6783 non-null    float64\n",
      " 4   primary_profession  555308 non-null  object \n",
      " 5   known_for_titles    576444 non-null  object \n",
      "dtypes: float64(2), object(4)\n",
      "memory usage: 27.8+ MB\n"
     ]
    }
   ],
   "source": [
    "# Accessing more information about the first dataset\n",
    "\n",
    "df_name.info()"
   ]
  },
  {
   "cell_type": "markdown",
   "metadata": {},
   "source": [
    "This shows that data has 2 data types: floats and objects. The columns nconst, primary name, primary profession and known for titles are of type object and birth year and death year are of the float type."
   ]
  },
  {
   "cell_type": "code",
   "execution_count": 9,
   "metadata": {},
   "outputs": [
    {
     "data": {
      "text/plain": [
       "(606648, 6)"
      ]
     },
     "execution_count": 9,
     "metadata": {},
     "output_type": "execute_result"
    }
   ],
   "source": [
    "df_name.shape"
   ]
  },
  {
   "cell_type": "markdown",
   "metadata": {},
   "source": [
    "This shows the data has 606,648 rows and 6 columns"
   ]
  },
  {
   "cell_type": "code",
   "execution_count": 10,
   "metadata": {},
   "outputs": [
    {
     "name": "stdout",
     "output_type": "stream",
     "text": [
      "<class 'pandas.core.frame.DataFrame'>\n",
      "RangeIndex: 5782 entries, 0 to 5781\n",
      "Data columns (total 6 columns):\n",
      " #   Column             Non-Null Count  Dtype \n",
      "---  ------             --------------  ----- \n",
      " 0   id                 5782 non-null   int64 \n",
      " 1   release_date       5782 non-null   object\n",
      " 2   movie              5782 non-null   object\n",
      " 3   production_budget  5782 non-null   object\n",
      " 4   domestic_gross     5782 non-null   object\n",
      " 5   worldwide_gross    5782 non-null   object\n",
      "dtypes: int64(1), object(5)\n",
      "memory usage: 271.2+ KB\n"
     ]
    }
   ],
   "source": [
    "# Accessing more information about the second dataset\n",
    "\n",
    "df_budget.info()"
   ]
  },
  {
   "cell_type": "markdown",
   "metadata": {},
   "source": [
    "All the data has the data type object"
   ]
  },
  {
   "cell_type": "code",
   "execution_count": 11,
   "metadata": {},
   "outputs": [
    {
     "data": {
      "text/plain": [
       "(5782, 6)"
      ]
     },
     "execution_count": 11,
     "metadata": {},
     "output_type": "execute_result"
    }
   ],
   "source": [
    "df_budget.shape"
   ]
  },
  {
   "cell_type": "markdown",
   "metadata": {},
   "source": [
    "This shows the data has 5,782 rows and 5 columns"
   ]
  },
  {
   "cell_type": "code",
   "execution_count": 12,
   "metadata": {},
   "outputs": [
    {
     "name": "stdout",
     "output_type": "stream",
     "text": [
      "<class 'pandas.core.frame.DataFrame'>\n",
      "Int64Index: 26517 entries, 0 to 26516\n",
      "Data columns (total 9 columns):\n",
      " #   Column             Non-Null Count  Dtype  \n",
      "---  ------             --------------  -----  \n",
      " 0   genre_ids          26517 non-null  object \n",
      " 1   id                 26517 non-null  int64  \n",
      " 2   original_language  26517 non-null  object \n",
      " 3   original_title     26517 non-null  object \n",
      " 4   popularity         26517 non-null  float64\n",
      " 5   release_date       26517 non-null  object \n",
      " 6   title              26517 non-null  object \n",
      " 7   vote_average       26517 non-null  float64\n",
      " 8   vote_count         26517 non-null  int64  \n",
      "dtypes: float64(2), int64(2), object(5)\n",
      "memory usage: 2.0+ MB\n"
     ]
    }
   ],
   "source": [
    "# Accessing more information about the third dataset\n",
    "\n",
    "df_ratings.info()"
   ]
  },
  {
   "cell_type": "markdown",
   "metadata": {},
   "source": [
    "This shows that the data has 3 data types: floats, intergers and objects. The columns genre ids, original language, original title, release date and title are of type object, the id and vote count columns are of type integer, and popularity and vote average are of the float type."
   ]
  },
  {
   "cell_type": "code",
   "execution_count": 13,
   "metadata": {},
   "outputs": [
    {
     "data": {
      "text/plain": [
       "(26517, 9)"
      ]
     },
     "execution_count": 13,
     "metadata": {},
     "output_type": "execute_result"
    }
   ],
   "source": [
    "df_ratings.shape"
   ]
  },
  {
   "cell_type": "markdown",
   "metadata": {},
   "source": [
    "This shows the data has 26,517 rows and 9 columns"
   ]
  },
  {
   "cell_type": "code",
   "execution_count": 14,
   "metadata": {},
   "outputs": [
    {
     "name": "stdout",
     "output_type": "stream",
     "text": [
      "<class 'pandas.core.frame.DataFrame'>\n",
      "RangeIndex: 146144 entries, 0 to 146143\n",
      "Data columns (total 6 columns):\n",
      " #   Column           Non-Null Count   Dtype  \n",
      "---  ------           --------------   -----  \n",
      " 0   tconst           146144 non-null  object \n",
      " 1   primary_title    146144 non-null  object \n",
      " 2   original_title   146123 non-null  object \n",
      " 3   start_year       146144 non-null  int64  \n",
      " 4   runtime_minutes  114405 non-null  float64\n",
      " 5   genres           140736 non-null  object \n",
      "dtypes: float64(1), int64(1), object(4)\n",
      "memory usage: 6.7+ MB\n"
     ]
    }
   ],
   "source": [
    "#Accessing more information about the fourth dataset\n",
    "\n",
    "df_genres.info()"
   ]
  },
  {
   "cell_type": "markdown",
   "metadata": {},
   "source": [
    "This shows that data has 3 data types: floats, intergers and objects. The columns tconst, primary title, original title and genres are of type object, the start year column is of type integer, and runtime minutes is of the float type."
   ]
  },
  {
   "cell_type": "code",
   "execution_count": 15,
   "metadata": {},
   "outputs": [
    {
     "data": {
      "text/plain": [
       "(146144, 6)"
      ]
     },
     "execution_count": 15,
     "metadata": {},
     "output_type": "execute_result"
    }
   ],
   "source": [
    "df_genres.shape"
   ]
  },
  {
   "cell_type": "markdown",
   "metadata": {},
   "source": [
    "This shows the data has 146,144 rows and 6 columns"
   ]
  },
  {
   "cell_type": "code",
   "execution_count": 16,
   "metadata": {},
   "outputs": [
    {
     "name": "stdout",
     "output_type": "stream",
     "text": [
      "<class 'pandas.core.frame.DataFrame'>\n",
      "RangeIndex: 146144 entries, 0 to 146143\n",
      "Data columns (total 3 columns):\n",
      " #   Column     Non-Null Count   Dtype \n",
      "---  ------     --------------   ----- \n",
      " 0   tconst     146144 non-null  object\n",
      " 1   directors  140417 non-null  object\n",
      " 2   writers    110261 non-null  object\n",
      "dtypes: object(3)\n",
      "memory usage: 3.3+ MB\n"
     ]
    }
   ],
   "source": [
    "#Accessing more information about the fifth dataset\n",
    "\n",
    "df_crew.info()"
   ]
  },
  {
   "cell_type": "markdown",
   "metadata": {},
   "source": [
    "All the data is of the data type object."
   ]
  },
  {
   "cell_type": "code",
   "execution_count": 17,
   "metadata": {},
   "outputs": [
    {
     "data": {
      "text/plain": [
       "(146144, 3)"
      ]
     },
     "execution_count": 17,
     "metadata": {},
     "output_type": "execute_result"
    }
   ],
   "source": [
    "df_crew.shape"
   ]
  },
  {
   "cell_type": "markdown",
   "metadata": {},
   "source": [
    "The data has 146,144 rows and 3 columns."
   ]
  },
  {
   "cell_type": "markdown",
   "metadata": {},
   "source": [
    "## 2.3 Data Cleaning"
   ]
  },
  {
   "cell_type": "markdown",
   "metadata": {},
   "source": [
    "### 2.3.1 Names Dataset"
   ]
  },
  {
   "cell_type": "code",
   "execution_count": 18,
   "metadata": {},
   "outputs": [
    {
     "data": {
      "text/html": [
       "<div>\n",
       "<style scoped>\n",
       "    .dataframe tbody tr th:only-of-type {\n",
       "        vertical-align: middle;\n",
       "    }\n",
       "\n",
       "    .dataframe tbody tr th {\n",
       "        vertical-align: top;\n",
       "    }\n",
       "\n",
       "    .dataframe thead th {\n",
       "        text-align: right;\n",
       "    }\n",
       "</style>\n",
       "<table border=\"1\" class=\"dataframe\">\n",
       "  <thead>\n",
       "    <tr style=\"text-align: right;\">\n",
       "      <th></th>\n",
       "      <th>nconst</th>\n",
       "      <th>primary_name</th>\n",
       "      <th>birth_year</th>\n",
       "      <th>death_year</th>\n",
       "      <th>primary_profession</th>\n",
       "      <th>known_for_titles</th>\n",
       "    </tr>\n",
       "  </thead>\n",
       "  <tbody>\n",
       "    <tr>\n",
       "      <th>0</th>\n",
       "      <td>nm0061671</td>\n",
       "      <td>Mary Ellen Bauder</td>\n",
       "      <td>NaN</td>\n",
       "      <td>NaN</td>\n",
       "      <td>miscellaneous,production_manager,producer</td>\n",
       "      <td>tt0837562,tt2398241,tt0844471,tt0118553</td>\n",
       "    </tr>\n",
       "    <tr>\n",
       "      <th>1</th>\n",
       "      <td>nm0061865</td>\n",
       "      <td>Joseph Bauer</td>\n",
       "      <td>NaN</td>\n",
       "      <td>NaN</td>\n",
       "      <td>composer,music_department,sound_department</td>\n",
       "      <td>tt0896534,tt6791238,tt0287072,tt1682940</td>\n",
       "    </tr>\n",
       "    <tr>\n",
       "      <th>2</th>\n",
       "      <td>nm0062070</td>\n",
       "      <td>Bruce Baum</td>\n",
       "      <td>NaN</td>\n",
       "      <td>NaN</td>\n",
       "      <td>miscellaneous,actor,writer</td>\n",
       "      <td>tt1470654,tt0363631,tt0104030,tt0102898</td>\n",
       "    </tr>\n",
       "  </tbody>\n",
       "</table>\n",
       "</div>"
      ],
      "text/plain": [
       "      nconst       primary_name  birth_year  death_year  \\\n",
       "0  nm0061671  Mary Ellen Bauder         NaN         NaN   \n",
       "1  nm0061865       Joseph Bauer         NaN         NaN   \n",
       "2  nm0062070         Bruce Baum         NaN         NaN   \n",
       "\n",
       "                           primary_profession  \\\n",
       "0   miscellaneous,production_manager,producer   \n",
       "1  composer,music_department,sound_department   \n",
       "2                  miscellaneous,actor,writer   \n",
       "\n",
       "                          known_for_titles  \n",
       "0  tt0837562,tt2398241,tt0844471,tt0118553  \n",
       "1  tt0896534,tt6791238,tt0287072,tt1682940  \n",
       "2  tt1470654,tt0363631,tt0104030,tt0102898  "
      ]
     },
     "execution_count": 18,
     "metadata": {},
     "output_type": "execute_result"
    }
   ],
   "source": [
    "df_name.head(3)"
   ]
  },
  {
   "cell_type": "code",
   "execution_count": 19,
   "metadata": {},
   "outputs": [
    {
     "name": "stdout",
     "output_type": "stream",
     "text": [
      "<class 'pandas.core.frame.DataFrame'>\n",
      "RangeIndex: 606648 entries, 0 to 606647\n",
      "Data columns (total 6 columns):\n",
      " #   Column              Non-Null Count   Dtype  \n",
      "---  ------              --------------   -----  \n",
      " 0   nconst              606648 non-null  object \n",
      " 1   primary_name        606648 non-null  object \n",
      " 2   birth_year          82736 non-null   float64\n",
      " 3   death_year          6783 non-null    float64\n",
      " 4   primary_profession  555308 non-null  object \n",
      " 5   known_for_titles    576444 non-null  object \n",
      "dtypes: float64(2), object(4)\n",
      "memory usage: 27.8+ MB\n"
     ]
    }
   ],
   "source": [
    "#checking the data for null entries.\n",
    "df_name.info()"
   ]
  },
  {
   "cell_type": "markdown",
   "metadata": {},
   "source": [
    "It is noted that all column data types correspond to the data inside them."
   ]
  },
  {
   "cell_type": "code",
   "execution_count": 20,
   "metadata": {},
   "outputs": [
    {
     "data": {
      "text/plain": [
       "nconst                     0\n",
       "primary_name               0\n",
       "birth_year            523912\n",
       "death_year            599865\n",
       "primary_profession     51340\n",
       "known_for_titles       30204\n",
       "dtype: int64"
      ]
     },
     "execution_count": 20,
     "metadata": {},
     "output_type": "execute_result"
    }
   ],
   "source": [
    "# checking for null values\n",
    "\n",
    "df_name.isna().sum()"
   ]
  },
  {
   "cell_type": "markdown",
   "metadata": {},
   "source": [
    "This dataset has a lot of null values in all the columns except ncost and primary name. The other columns are not that important in the analysis, hence, may be dropped."
   ]
  },
  {
   "cell_type": "code",
   "execution_count": 21,
   "metadata": {},
   "outputs": [],
   "source": [
    "# dropping the columns\n",
    "\n",
    "df_name.drop(columns=['birth_year', 'death_year', 'known_for_titles', 'primary_profession' ], inplace=True)"
   ]
  },
  {
   "cell_type": "code",
   "execution_count": 22,
   "metadata": {},
   "outputs": [
    {
     "data": {
      "text/plain": [
       "(606648, 2)"
      ]
     },
     "execution_count": 22,
     "metadata": {},
     "output_type": "execute_result"
    }
   ],
   "source": [
    "df_name.shape"
   ]
  },
  {
   "cell_type": "code",
   "execution_count": 23,
   "metadata": {},
   "outputs": [
    {
     "data": {
      "text/html": [
       "<div>\n",
       "<style scoped>\n",
       "    .dataframe tbody tr th:only-of-type {\n",
       "        vertical-align: middle;\n",
       "    }\n",
       "\n",
       "    .dataframe tbody tr th {\n",
       "        vertical-align: top;\n",
       "    }\n",
       "\n",
       "    .dataframe thead th {\n",
       "        text-align: right;\n",
       "    }\n",
       "</style>\n",
       "<table border=\"1\" class=\"dataframe\">\n",
       "  <thead>\n",
       "    <tr style=\"text-align: right;\">\n",
       "      <th></th>\n",
       "      <th>nconst</th>\n",
       "      <th>primary_name</th>\n",
       "    </tr>\n",
       "  </thead>\n",
       "  <tbody>\n",
       "    <tr>\n",
       "      <th>0</th>\n",
       "      <td>nm0061671</td>\n",
       "      <td>Mary Ellen Bauder</td>\n",
       "    </tr>\n",
       "    <tr>\n",
       "      <th>1</th>\n",
       "      <td>nm0061865</td>\n",
       "      <td>Joseph Bauer</td>\n",
       "    </tr>\n",
       "    <tr>\n",
       "      <th>2</th>\n",
       "      <td>nm0062070</td>\n",
       "      <td>Bruce Baum</td>\n",
       "    </tr>\n",
       "    <tr>\n",
       "      <th>3</th>\n",
       "      <td>nm0062195</td>\n",
       "      <td>Axel Baumann</td>\n",
       "    </tr>\n",
       "    <tr>\n",
       "      <th>4</th>\n",
       "      <td>nm0062798</td>\n",
       "      <td>Pete Baxter</td>\n",
       "    </tr>\n",
       "    <tr>\n",
       "      <th>...</th>\n",
       "      <td>...</td>\n",
       "      <td>...</td>\n",
       "    </tr>\n",
       "    <tr>\n",
       "      <th>606643</th>\n",
       "      <td>nm9990381</td>\n",
       "      <td>Susan Grobes</td>\n",
       "    </tr>\n",
       "    <tr>\n",
       "      <th>606644</th>\n",
       "      <td>nm9990690</td>\n",
       "      <td>Joo Yeon So</td>\n",
       "    </tr>\n",
       "    <tr>\n",
       "      <th>606645</th>\n",
       "      <td>nm9991320</td>\n",
       "      <td>Madeline Smith</td>\n",
       "    </tr>\n",
       "    <tr>\n",
       "      <th>606646</th>\n",
       "      <td>nm9991786</td>\n",
       "      <td>Michelle Modigliani</td>\n",
       "    </tr>\n",
       "    <tr>\n",
       "      <th>606647</th>\n",
       "      <td>nm9993380</td>\n",
       "      <td>Pegasus Envoyé</td>\n",
       "    </tr>\n",
       "  </tbody>\n",
       "</table>\n",
       "<p>606648 rows × 2 columns</p>\n",
       "</div>"
      ],
      "text/plain": [
       "           nconst         primary_name\n",
       "0       nm0061671    Mary Ellen Bauder\n",
       "1       nm0061865         Joseph Bauer\n",
       "2       nm0062070           Bruce Baum\n",
       "3       nm0062195         Axel Baumann\n",
       "4       nm0062798          Pete Baxter\n",
       "...           ...                  ...\n",
       "606643  nm9990381         Susan Grobes\n",
       "606644  nm9990690          Joo Yeon So\n",
       "606645  nm9991320       Madeline Smith\n",
       "606646  nm9991786  Michelle Modigliani\n",
       "606647  nm9993380       Pegasus Envoyé\n",
       "\n",
       "[606648 rows x 2 columns]"
      ]
     },
     "execution_count": 23,
     "metadata": {},
     "output_type": "execute_result"
    }
   ],
   "source": [
    "df_name"
   ]
  },
  {
   "cell_type": "code",
   "execution_count": 24,
   "metadata": {},
   "outputs": [
    {
     "data": {
      "text/plain": [
       "0"
      ]
     },
     "execution_count": 24,
     "metadata": {},
     "output_type": "execute_result"
    }
   ],
   "source": [
    "# check for duplicates in the data\n",
    "\n",
    "df_name.duplicated().sum()"
   ]
  },
  {
   "cell_type": "markdown",
   "metadata": {},
   "source": [
    "The data has no duplicates"
   ]
  },
  {
   "cell_type": "code",
   "execution_count": 25,
   "metadata": {},
   "outputs": [
    {
     "data": {
      "text/plain": [
       "(606648, 2)"
      ]
     },
     "execution_count": 25,
     "metadata": {},
     "output_type": "execute_result"
    }
   ],
   "source": [
    "df_name.shape"
   ]
  },
  {
   "cell_type": "markdown",
   "metadata": {},
   "source": [
    "### 2.3.2 Movie Budget Dataset"
   ]
  },
  {
   "cell_type": "code",
   "execution_count": 26,
   "metadata": {},
   "outputs": [
    {
     "data": {
      "text/html": [
       "<div>\n",
       "<style scoped>\n",
       "    .dataframe tbody tr th:only-of-type {\n",
       "        vertical-align: middle;\n",
       "    }\n",
       "\n",
       "    .dataframe tbody tr th {\n",
       "        vertical-align: top;\n",
       "    }\n",
       "\n",
       "    .dataframe thead th {\n",
       "        text-align: right;\n",
       "    }\n",
       "</style>\n",
       "<table border=\"1\" class=\"dataframe\">\n",
       "  <thead>\n",
       "    <tr style=\"text-align: right;\">\n",
       "      <th></th>\n",
       "      <th>id</th>\n",
       "      <th>release_date</th>\n",
       "      <th>movie</th>\n",
       "      <th>production_budget</th>\n",
       "      <th>domestic_gross</th>\n",
       "      <th>worldwide_gross</th>\n",
       "    </tr>\n",
       "  </thead>\n",
       "  <tbody>\n",
       "    <tr>\n",
       "      <th>0</th>\n",
       "      <td>1</td>\n",
       "      <td>18-Dec-09</td>\n",
       "      <td>Avatar</td>\n",
       "      <td>$425,000,000</td>\n",
       "      <td>$760,507,625</td>\n",
       "      <td>$2,776,345,279</td>\n",
       "    </tr>\n",
       "    <tr>\n",
       "      <th>1</th>\n",
       "      <td>2</td>\n",
       "      <td>20-May-11</td>\n",
       "      <td>Pirates of the Caribbean: On Stranger Tides</td>\n",
       "      <td>$410,600,000</td>\n",
       "      <td>$241,063,875</td>\n",
       "      <td>$1,045,663,875</td>\n",
       "    </tr>\n",
       "    <tr>\n",
       "      <th>2</th>\n",
       "      <td>3</td>\n",
       "      <td>7-Jun-19</td>\n",
       "      <td>Dark Phoenix</td>\n",
       "      <td>$350,000,000</td>\n",
       "      <td>$42,762,350</td>\n",
       "      <td>$149,762,350</td>\n",
       "    </tr>\n",
       "  </tbody>\n",
       "</table>\n",
       "</div>"
      ],
      "text/plain": [
       "   id release_date                                        movie  \\\n",
       "0   1    18-Dec-09                                       Avatar   \n",
       "1   2    20-May-11  Pirates of the Caribbean: On Stranger Tides   \n",
       "2   3     7-Jun-19                                 Dark Phoenix   \n",
       "\n",
       "  production_budget domestic_gross  worldwide_gross  \n",
       "0     $425,000,000   $760,507,625   $2,776,345,279   \n",
       "1     $410,600,000   $241,063,875   $1,045,663,875   \n",
       "2     $350,000,000    $42,762,350     $149,762,350   "
      ]
     },
     "execution_count": 26,
     "metadata": {},
     "output_type": "execute_result"
    }
   ],
   "source": [
    "df_budget.head(3)"
   ]
  },
  {
   "cell_type": "code",
   "execution_count": 27,
   "metadata": {},
   "outputs": [
    {
     "name": "stdout",
     "output_type": "stream",
     "text": [
      "<class 'pandas.core.frame.DataFrame'>\n",
      "RangeIndex: 5782 entries, 0 to 5781\n",
      "Data columns (total 6 columns):\n",
      " #   Column             Non-Null Count  Dtype \n",
      "---  ------             --------------  ----- \n",
      " 0   id                 5782 non-null   int64 \n",
      " 1   release_date       5782 non-null   object\n",
      " 2   movie              5782 non-null   object\n",
      " 3   production_budget  5782 non-null   object\n",
      " 4   domestic_gross     5782 non-null   object\n",
      " 5   worldwide_gross    5782 non-null   object\n",
      "dtypes: int64(1), object(5)\n",
      "memory usage: 271.2+ KB\n"
     ]
    }
   ],
   "source": [
    "df_budget.info()"
   ]
  },
  {
   "cell_type": "markdown",
   "metadata": {},
   "source": [
    "It can be noted that the columns 'production_budget', 'domestic_gross' and 'worldwide_gross' have numerical data, but are of object type object. This can be attributed to them having the '$' symbol and ','. These need to be removed, so that the columns to be converted to integers."
   ]
  },
  {
   "cell_type": "code",
   "execution_count": 28,
   "metadata": {},
   "outputs": [],
   "source": [
    "# removing the $ and , from the columns\n",
    "\n",
    "df_budget['production_budget'] = df_budget['production_budget'].str.replace('$','')\n",
    "df_budget['production_budget'] = df_budget['production_budget'].str.replace(',', '')\n",
    "df_budget['domestic_gross'] = df_budget['domestic_gross'].str.replace('$','')\n",
    "df_budget['domestic_gross'] = df_budget['domestic_gross'].str.replace(',', '')\n",
    "df_budget['worldwide_gross'] = df_budget['worldwide_gross'].str.replace('$','')\n",
    "df_budget['worldwide_gross'] = df_budget['worldwide_gross'].str.replace(',', '')"
   ]
  },
  {
   "cell_type": "code",
   "execution_count": 29,
   "metadata": {},
   "outputs": [],
   "source": [
    "# converting the columns to integers\n",
    "\n",
    "df_budget['production_budget'] = df_budget['production_budget'].astype('int64')\n",
    "df_budget['domestic_gross'] = df_budget['domestic_gross'].astype('int64')\n",
    "df_budget['worldwide_gross'] = df_budget['worldwide_gross'].astype('int64')"
   ]
  },
  {
   "cell_type": "code",
   "execution_count": 30,
   "metadata": {},
   "outputs": [
    {
     "data": {
      "text/html": [
       "<div>\n",
       "<style scoped>\n",
       "    .dataframe tbody tr th:only-of-type {\n",
       "        vertical-align: middle;\n",
       "    }\n",
       "\n",
       "    .dataframe tbody tr th {\n",
       "        vertical-align: top;\n",
       "    }\n",
       "\n",
       "    .dataframe thead th {\n",
       "        text-align: right;\n",
       "    }\n",
       "</style>\n",
       "<table border=\"1\" class=\"dataframe\">\n",
       "  <thead>\n",
       "    <tr style=\"text-align: right;\">\n",
       "      <th></th>\n",
       "      <th>id</th>\n",
       "      <th>release_date</th>\n",
       "      <th>movie</th>\n",
       "      <th>production_budget</th>\n",
       "      <th>domestic_gross</th>\n",
       "      <th>worldwide_gross</th>\n",
       "    </tr>\n",
       "  </thead>\n",
       "  <tbody>\n",
       "    <tr>\n",
       "      <th>0</th>\n",
       "      <td>1</td>\n",
       "      <td>18-Dec-09</td>\n",
       "      <td>Avatar</td>\n",
       "      <td>425000000</td>\n",
       "      <td>760507625</td>\n",
       "      <td>2776345279</td>\n",
       "    </tr>\n",
       "    <tr>\n",
       "      <th>1</th>\n",
       "      <td>2</td>\n",
       "      <td>20-May-11</td>\n",
       "      <td>Pirates of the Caribbean: On Stranger Tides</td>\n",
       "      <td>410600000</td>\n",
       "      <td>241063875</td>\n",
       "      <td>1045663875</td>\n",
       "    </tr>\n",
       "    <tr>\n",
       "      <th>2</th>\n",
       "      <td>3</td>\n",
       "      <td>7-Jun-19</td>\n",
       "      <td>Dark Phoenix</td>\n",
       "      <td>350000000</td>\n",
       "      <td>42762350</td>\n",
       "      <td>149762350</td>\n",
       "    </tr>\n",
       "    <tr>\n",
       "      <th>3</th>\n",
       "      <td>4</td>\n",
       "      <td>1-May-15</td>\n",
       "      <td>Avengers: Age of Ultron</td>\n",
       "      <td>330600000</td>\n",
       "      <td>459005868</td>\n",
       "      <td>1403013963</td>\n",
       "    </tr>\n",
       "    <tr>\n",
       "      <th>4</th>\n",
       "      <td>5</td>\n",
       "      <td>15-Dec-17</td>\n",
       "      <td>Star Wars Ep. VIII: The Last Jedi</td>\n",
       "      <td>317000000</td>\n",
       "      <td>620181382</td>\n",
       "      <td>1316721747</td>\n",
       "    </tr>\n",
       "    <tr>\n",
       "      <th>...</th>\n",
       "      <td>...</td>\n",
       "      <td>...</td>\n",
       "      <td>...</td>\n",
       "      <td>...</td>\n",
       "      <td>...</td>\n",
       "      <td>...</td>\n",
       "    </tr>\n",
       "    <tr>\n",
       "      <th>5777</th>\n",
       "      <td>78</td>\n",
       "      <td>31-Dec-18</td>\n",
       "      <td>Red 11</td>\n",
       "      <td>7000</td>\n",
       "      <td>0</td>\n",
       "      <td>0</td>\n",
       "    </tr>\n",
       "    <tr>\n",
       "      <th>5778</th>\n",
       "      <td>79</td>\n",
       "      <td>2-Apr-99</td>\n",
       "      <td>Following</td>\n",
       "      <td>6000</td>\n",
       "      <td>48482</td>\n",
       "      <td>240495</td>\n",
       "    </tr>\n",
       "    <tr>\n",
       "      <th>5779</th>\n",
       "      <td>80</td>\n",
       "      <td>13-Jul-05</td>\n",
       "      <td>Return to the Land of Wonders</td>\n",
       "      <td>5000</td>\n",
       "      <td>1338</td>\n",
       "      <td>1338</td>\n",
       "    </tr>\n",
       "    <tr>\n",
       "      <th>5780</th>\n",
       "      <td>81</td>\n",
       "      <td>29-Sep-15</td>\n",
       "      <td>A Plague So Pleasant</td>\n",
       "      <td>1400</td>\n",
       "      <td>0</td>\n",
       "      <td>0</td>\n",
       "    </tr>\n",
       "    <tr>\n",
       "      <th>5781</th>\n",
       "      <td>82</td>\n",
       "      <td>5-Aug-05</td>\n",
       "      <td>My Date With Drew</td>\n",
       "      <td>1100</td>\n",
       "      <td>181041</td>\n",
       "      <td>181041</td>\n",
       "    </tr>\n",
       "  </tbody>\n",
       "</table>\n",
       "<p>5782 rows × 6 columns</p>\n",
       "</div>"
      ],
      "text/plain": [
       "      id release_date                                        movie  \\\n",
       "0      1    18-Dec-09                                       Avatar   \n",
       "1      2    20-May-11  Pirates of the Caribbean: On Stranger Tides   \n",
       "2      3     7-Jun-19                                 Dark Phoenix   \n",
       "3      4     1-May-15                      Avengers: Age of Ultron   \n",
       "4      5    15-Dec-17            Star Wars Ep. VIII: The Last Jedi   \n",
       "...   ..          ...                                          ...   \n",
       "5777  78    31-Dec-18                                       Red 11   \n",
       "5778  79     2-Apr-99                                    Following   \n",
       "5779  80    13-Jul-05                Return to the Land of Wonders   \n",
       "5780  81    29-Sep-15                         A Plague So Pleasant   \n",
       "5781  82     5-Aug-05                            My Date With Drew   \n",
       "\n",
       "      production_budget  domestic_gross  worldwide_gross  \n",
       "0             425000000       760507625       2776345279  \n",
       "1             410600000       241063875       1045663875  \n",
       "2             350000000        42762350        149762350  \n",
       "3             330600000       459005868       1403013963  \n",
       "4             317000000       620181382       1316721747  \n",
       "...                 ...             ...              ...  \n",
       "5777               7000               0                0  \n",
       "5778               6000           48482           240495  \n",
       "5779               5000            1338             1338  \n",
       "5780               1400               0                0  \n",
       "5781               1100          181041           181041  \n",
       "\n",
       "[5782 rows x 6 columns]"
      ]
     },
     "execution_count": 30,
     "metadata": {},
     "output_type": "execute_result"
    }
   ],
   "source": [
    "df_budget"
   ]
  },
  {
   "cell_type": "code",
   "execution_count": 31,
   "metadata": {},
   "outputs": [
    {
     "name": "stdout",
     "output_type": "stream",
     "text": [
      "<class 'pandas.core.frame.DataFrame'>\n",
      "RangeIndex: 5782 entries, 0 to 5781\n",
      "Data columns (total 6 columns):\n",
      " #   Column             Non-Null Count  Dtype \n",
      "---  ------             --------------  ----- \n",
      " 0   id                 5782 non-null   int64 \n",
      " 1   release_date       5782 non-null   object\n",
      " 2   movie              5782 non-null   object\n",
      " 3   production_budget  5782 non-null   int64 \n",
      " 4   domestic_gross     5782 non-null   int64 \n",
      " 5   worldwide_gross    5782 non-null   int64 \n",
      "dtypes: int64(4), object(2)\n",
      "memory usage: 271.2+ KB\n"
     ]
    }
   ],
   "source": [
    "#checking the data types of the columns\n",
    "\n",
    "df_budget.info()"
   ]
  },
  {
   "cell_type": "markdown",
   "metadata": {},
   "source": [
    "Now that the data columns have the appropriate data types, the data can now be checked for missing and duplicate values."
   ]
  },
  {
   "cell_type": "code",
   "execution_count": 32,
   "metadata": {},
   "outputs": [
    {
     "data": {
      "text/plain": [
       "id                   0\n",
       "release_date         0\n",
       "movie                0\n",
       "production_budget    0\n",
       "domestic_gross       0\n",
       "worldwide_gross      0\n",
       "dtype: int64"
      ]
     },
     "execution_count": 32,
     "metadata": {},
     "output_type": "execute_result"
    }
   ],
   "source": [
    "# checking if the data has missing values\n",
    "\n",
    "df_budget.isna().sum()"
   ]
  },
  {
   "cell_type": "markdown",
   "metadata": {},
   "source": [
    "The dataset has no null values"
   ]
  },
  {
   "cell_type": "code",
   "execution_count": 33,
   "metadata": {},
   "outputs": [
    {
     "data": {
      "text/plain": [
       "0"
      ]
     },
     "execution_count": 33,
     "metadata": {},
     "output_type": "execute_result"
    }
   ],
   "source": [
    "# checking for duplicate values\n",
    "\n",
    "df_budget.duplicated(['movie', 'release_date']).sum()"
   ]
  },
  {
   "cell_type": "markdown",
   "metadata": {},
   "source": [
    "Since movies have remakes, and the remakes often retain the same movie title, the data was checked for duplicates in the movie and release date column. The data has no duplicates."
   ]
  },
  {
   "cell_type": "code",
   "execution_count": 34,
   "metadata": {},
   "outputs": [
    {
     "data": {
      "text/html": [
       "<div>\n",
       "<style scoped>\n",
       "    .dataframe tbody tr th:only-of-type {\n",
       "        vertical-align: middle;\n",
       "    }\n",
       "\n",
       "    .dataframe tbody tr th {\n",
       "        vertical-align: top;\n",
       "    }\n",
       "\n",
       "    .dataframe thead th {\n",
       "        text-align: right;\n",
       "    }\n",
       "</style>\n",
       "<table border=\"1\" class=\"dataframe\">\n",
       "  <thead>\n",
       "    <tr style=\"text-align: right;\">\n",
       "      <th></th>\n",
       "      <th>id</th>\n",
       "      <th>release_date</th>\n",
       "      <th>movie</th>\n",
       "      <th>production_budget</th>\n",
       "      <th>domestic_gross</th>\n",
       "      <th>worldwide_gross</th>\n",
       "    </tr>\n",
       "  </thead>\n",
       "  <tbody>\n",
       "    <tr>\n",
       "      <th>5037</th>\n",
       "      <td>38</td>\n",
       "      <td>23-Apr-19</td>\n",
       "      <td>Living Dark: The Story of Ted the Caver</td>\n",
       "      <td>1750000</td>\n",
       "      <td>0</td>\n",
       "      <td>0</td>\n",
       "    </tr>\n",
       "    <tr>\n",
       "      <th>3975</th>\n",
       "      <td>76</td>\n",
       "      <td>15-May-15</td>\n",
       "      <td>Pound of Flesh</td>\n",
       "      <td>7500000</td>\n",
       "      <td>0</td>\n",
       "      <td>0</td>\n",
       "    </tr>\n",
       "    <tr>\n",
       "      <th>4627</th>\n",
       "      <td>28</td>\n",
       "      <td>28-Jun-11</td>\n",
       "      <td>2:13</td>\n",
       "      <td>3500000</td>\n",
       "      <td>0</td>\n",
       "      <td>0</td>\n",
       "    </tr>\n",
       "    <tr>\n",
       "      <th>4628</th>\n",
       "      <td>29</td>\n",
       "      <td>29-Jan-13</td>\n",
       "      <td>Batman: The Dark Knight Returns, Part 2</td>\n",
       "      <td>3500000</td>\n",
       "      <td>0</td>\n",
       "      <td>0</td>\n",
       "    </tr>\n",
       "    <tr>\n",
       "      <th>3947</th>\n",
       "      <td>48</td>\n",
       "      <td>21-Jun-19</td>\n",
       "      <td>Burn Your Maps</td>\n",
       "      <td>8000000</td>\n",
       "      <td>0</td>\n",
       "      <td>0</td>\n",
       "    </tr>\n",
       "    <tr>\n",
       "      <th>...</th>\n",
       "      <td>...</td>\n",
       "      <td>...</td>\n",
       "      <td>...</td>\n",
       "      <td>...</td>\n",
       "      <td>...</td>\n",
       "      <td>...</td>\n",
       "    </tr>\n",
       "    <tr>\n",
       "      <th>33</th>\n",
       "      <td>34</td>\n",
       "      <td>12-Jun-15</td>\n",
       "      <td>Jurassic World</td>\n",
       "      <td>215000000</td>\n",
       "      <td>652270625</td>\n",
       "      <td>1648854864</td>\n",
       "    </tr>\n",
       "    <tr>\n",
       "      <th>6</th>\n",
       "      <td>7</td>\n",
       "      <td>27-Apr-18</td>\n",
       "      <td>Avengers: Infinity War</td>\n",
       "      <td>300000000</td>\n",
       "      <td>678815482</td>\n",
       "      <td>2048134200</td>\n",
       "    </tr>\n",
       "    <tr>\n",
       "      <th>5</th>\n",
       "      <td>6</td>\n",
       "      <td>18-Dec-15</td>\n",
       "      <td>Star Wars Ep. VII: The Force Awakens</td>\n",
       "      <td>306000000</td>\n",
       "      <td>936662225</td>\n",
       "      <td>2053311220</td>\n",
       "    </tr>\n",
       "    <tr>\n",
       "      <th>42</th>\n",
       "      <td>43</td>\n",
       "      <td>19-Dec-97</td>\n",
       "      <td>Titanic</td>\n",
       "      <td>200000000</td>\n",
       "      <td>659363944</td>\n",
       "      <td>2208208395</td>\n",
       "    </tr>\n",
       "    <tr>\n",
       "      <th>0</th>\n",
       "      <td>1</td>\n",
       "      <td>18-Dec-09</td>\n",
       "      <td>Avatar</td>\n",
       "      <td>425000000</td>\n",
       "      <td>760507625</td>\n",
       "      <td>2776345279</td>\n",
       "    </tr>\n",
       "  </tbody>\n",
       "</table>\n",
       "<p>5782 rows × 6 columns</p>\n",
       "</div>"
      ],
      "text/plain": [
       "      id release_date                                    movie  \\\n",
       "5037  38    23-Apr-19  Living Dark: The Story of Ted the Caver   \n",
       "3975  76    15-May-15                           Pound of Flesh   \n",
       "4627  28    28-Jun-11                                     2:13   \n",
       "4628  29    29-Jan-13  Batman: The Dark Knight Returns, Part 2   \n",
       "3947  48    21-Jun-19                           Burn Your Maps   \n",
       "...   ..          ...                                      ...   \n",
       "33    34    12-Jun-15                           Jurassic World   \n",
       "6      7    27-Apr-18                   Avengers: Infinity War   \n",
       "5      6    18-Dec-15     Star Wars Ep. VII: The Force Awakens   \n",
       "42    43    19-Dec-97                                  Titanic   \n",
       "0      1    18-Dec-09                                   Avatar   \n",
       "\n",
       "      production_budget  domestic_gross  worldwide_gross  \n",
       "5037            1750000               0                0  \n",
       "3975            7500000               0                0  \n",
       "4627            3500000               0                0  \n",
       "4628            3500000               0                0  \n",
       "3947            8000000               0                0  \n",
       "...                 ...             ...              ...  \n",
       "33            215000000       652270625       1648854864  \n",
       "6             300000000       678815482       2048134200  \n",
       "5             306000000       936662225       2053311220  \n",
       "42            200000000       659363944       2208208395  \n",
       "0             425000000       760507625       2776345279  \n",
       "\n",
       "[5782 rows x 6 columns]"
      ]
     },
     "execution_count": 34,
     "metadata": {},
     "output_type": "execute_result"
    }
   ],
   "source": [
    "# checking for lowest grossing numbers\n",
    "\n",
    "df_budget.sort_values('worldwide_gross')"
   ]
  },
  {
   "cell_type": "markdown",
   "metadata": {},
   "source": [
    "Frm the above data, it is noted that there are some films that don't have grossing data on either the domestic or worldwide grossing. Since grossing is a factor that is to be investigated, retaining these columns would distort the day, hence, these rows need to be dropped."
   ]
  },
  {
   "cell_type": "code",
   "execution_count": 35,
   "metadata": {},
   "outputs": [
    {
     "data": {
      "text/html": [
       "<div>\n",
       "<style scoped>\n",
       "    .dataframe tbody tr th:only-of-type {\n",
       "        vertical-align: middle;\n",
       "    }\n",
       "\n",
       "    .dataframe tbody tr th {\n",
       "        vertical-align: top;\n",
       "    }\n",
       "\n",
       "    .dataframe thead th {\n",
       "        text-align: right;\n",
       "    }\n",
       "</style>\n",
       "<table border=\"1\" class=\"dataframe\">\n",
       "  <thead>\n",
       "    <tr style=\"text-align: right;\">\n",
       "      <th></th>\n",
       "      <th>id</th>\n",
       "      <th>release_date</th>\n",
       "      <th>movie</th>\n",
       "      <th>production_budget</th>\n",
       "      <th>domestic_gross</th>\n",
       "      <th>worldwide_gross</th>\n",
       "    </tr>\n",
       "  </thead>\n",
       "  <tbody>\n",
       "    <tr>\n",
       "      <th>194</th>\n",
       "      <td>95</td>\n",
       "      <td>31-Dec-20</td>\n",
       "      <td>Moonfall</td>\n",
       "      <td>150000000</td>\n",
       "      <td>0</td>\n",
       "      <td>0</td>\n",
       "    </tr>\n",
       "    <tr>\n",
       "      <th>479</th>\n",
       "      <td>80</td>\n",
       "      <td>13-Dec-17</td>\n",
       "      <td>Bright</td>\n",
       "      <td>90000000</td>\n",
       "      <td>0</td>\n",
       "      <td>0</td>\n",
       "    </tr>\n",
       "    <tr>\n",
       "      <th>480</th>\n",
       "      <td>81</td>\n",
       "      <td>31-Dec-19</td>\n",
       "      <td>Army of the Dead</td>\n",
       "      <td>90000000</td>\n",
       "      <td>0</td>\n",
       "      <td>0</td>\n",
       "    </tr>\n",
       "  </tbody>\n",
       "</table>\n",
       "</div>"
      ],
      "text/plain": [
       "     id release_date             movie  production_budget  domestic_gross  \\\n",
       "194  95    31-Dec-20          Moonfall          150000000               0   \n",
       "479  80    13-Dec-17            Bright           90000000               0   \n",
       "480  81    31-Dec-19  Army of the Dead           90000000               0   \n",
       "\n",
       "     worldwide_gross  \n",
       "194                0  \n",
       "479                0  \n",
       "480                0  "
      ]
     },
     "execution_count": 35,
     "metadata": {},
     "output_type": "execute_result"
    }
   ],
   "source": [
    "to_drop = df_budget[(df_budget['domestic_gross'] == 0) & (df_budget['worldwide_gross'] == 0)]\n",
    "to_drop.head(3)"
   ]
  },
  {
   "cell_type": "code",
   "execution_count": 36,
   "metadata": {},
   "outputs": [],
   "source": [
    "df_budget.drop(to_drop.index, axis=0, inplace=True)"
   ]
  },
  {
   "cell_type": "code",
   "execution_count": 37,
   "metadata": {},
   "outputs": [
    {
     "data": {
      "text/html": [
       "<div>\n",
       "<style scoped>\n",
       "    .dataframe tbody tr th:only-of-type {\n",
       "        vertical-align: middle;\n",
       "    }\n",
       "\n",
       "    .dataframe tbody tr th {\n",
       "        vertical-align: top;\n",
       "    }\n",
       "\n",
       "    .dataframe thead th {\n",
       "        text-align: right;\n",
       "    }\n",
       "</style>\n",
       "<table border=\"1\" class=\"dataframe\">\n",
       "  <thead>\n",
       "    <tr style=\"text-align: right;\">\n",
       "      <th></th>\n",
       "      <th>id</th>\n",
       "      <th>release_date</th>\n",
       "      <th>movie</th>\n",
       "      <th>production_budget</th>\n",
       "      <th>domestic_gross</th>\n",
       "      <th>worldwide_gross</th>\n",
       "    </tr>\n",
       "  </thead>\n",
       "  <tbody>\n",
       "    <tr>\n",
       "      <th>0</th>\n",
       "      <td>1</td>\n",
       "      <td>18-Dec-09</td>\n",
       "      <td>Avatar</td>\n",
       "      <td>425000000</td>\n",
       "      <td>760507625</td>\n",
       "      <td>2776345279</td>\n",
       "    </tr>\n",
       "    <tr>\n",
       "      <th>1</th>\n",
       "      <td>2</td>\n",
       "      <td>20-May-11</td>\n",
       "      <td>Pirates of the Caribbean: On Stranger Tides</td>\n",
       "      <td>410600000</td>\n",
       "      <td>241063875</td>\n",
       "      <td>1045663875</td>\n",
       "    </tr>\n",
       "    <tr>\n",
       "      <th>2</th>\n",
       "      <td>3</td>\n",
       "      <td>7-Jun-19</td>\n",
       "      <td>Dark Phoenix</td>\n",
       "      <td>350000000</td>\n",
       "      <td>42762350</td>\n",
       "      <td>149762350</td>\n",
       "    </tr>\n",
       "  </tbody>\n",
       "</table>\n",
       "</div>"
      ],
      "text/plain": [
       "   id release_date                                        movie  \\\n",
       "0   1    18-Dec-09                                       Avatar   \n",
       "1   2    20-May-11  Pirates of the Caribbean: On Stranger Tides   \n",
       "2   3     7-Jun-19                                 Dark Phoenix   \n",
       "\n",
       "   production_budget  domestic_gross  worldwide_gross  \n",
       "0          425000000       760507625       2776345279  \n",
       "1          410600000       241063875       1045663875  \n",
       "2          350000000        42762350        149762350  "
      ]
     },
     "execution_count": 37,
     "metadata": {},
     "output_type": "execute_result"
    }
   ],
   "source": [
    "df_budget.head(3)"
   ]
  },
  {
   "cell_type": "markdown",
   "metadata": {},
   "source": [
    "### 2.3.3 Movie Ratings"
   ]
  },
  {
   "cell_type": "code",
   "execution_count": 38,
   "metadata": {},
   "outputs": [
    {
     "data": {
      "text/html": [
       "<div>\n",
       "<style scoped>\n",
       "    .dataframe tbody tr th:only-of-type {\n",
       "        vertical-align: middle;\n",
       "    }\n",
       "\n",
       "    .dataframe tbody tr th {\n",
       "        vertical-align: top;\n",
       "    }\n",
       "\n",
       "    .dataframe thead th {\n",
       "        text-align: right;\n",
       "    }\n",
       "</style>\n",
       "<table border=\"1\" class=\"dataframe\">\n",
       "  <thead>\n",
       "    <tr style=\"text-align: right;\">\n",
       "      <th></th>\n",
       "      <th>genre_ids</th>\n",
       "      <th>id</th>\n",
       "      <th>original_language</th>\n",
       "      <th>original_title</th>\n",
       "      <th>popularity</th>\n",
       "      <th>release_date</th>\n",
       "      <th>title</th>\n",
       "      <th>vote_average</th>\n",
       "      <th>vote_count</th>\n",
       "    </tr>\n",
       "  </thead>\n",
       "  <tbody>\n",
       "    <tr>\n",
       "      <th>0</th>\n",
       "      <td>[12, 14, 10751]</td>\n",
       "      <td>12444</td>\n",
       "      <td>en</td>\n",
       "      <td>Harry Potter and the Deathly Hallows: Part 1</td>\n",
       "      <td>33.533</td>\n",
       "      <td>2010-11-19</td>\n",
       "      <td>Harry Potter and the Deathly Hallows: Part 1</td>\n",
       "      <td>7.7</td>\n",
       "      <td>10788</td>\n",
       "    </tr>\n",
       "    <tr>\n",
       "      <th>1</th>\n",
       "      <td>[14, 12, 16, 10751]</td>\n",
       "      <td>10191</td>\n",
       "      <td>en</td>\n",
       "      <td>How to Train Your Dragon</td>\n",
       "      <td>28.734</td>\n",
       "      <td>2010-03-26</td>\n",
       "      <td>How to Train Your Dragon</td>\n",
       "      <td>7.7</td>\n",
       "      <td>7610</td>\n",
       "    </tr>\n",
       "    <tr>\n",
       "      <th>2</th>\n",
       "      <td>[12, 28, 878]</td>\n",
       "      <td>10138</td>\n",
       "      <td>en</td>\n",
       "      <td>Iron Man 2</td>\n",
       "      <td>28.515</td>\n",
       "      <td>2010-05-07</td>\n",
       "      <td>Iron Man 2</td>\n",
       "      <td>6.8</td>\n",
       "      <td>12368</td>\n",
       "    </tr>\n",
       "  </tbody>\n",
       "</table>\n",
       "</div>"
      ],
      "text/plain": [
       "             genre_ids     id original_language  \\\n",
       "0      [12, 14, 10751]  12444                en   \n",
       "1  [14, 12, 16, 10751]  10191                en   \n",
       "2        [12, 28, 878]  10138                en   \n",
       "\n",
       "                                 original_title  popularity release_date  \\\n",
       "0  Harry Potter and the Deathly Hallows: Part 1      33.533   2010-11-19   \n",
       "1                      How to Train Your Dragon      28.734   2010-03-26   \n",
       "2                                    Iron Man 2      28.515   2010-05-07   \n",
       "\n",
       "                                          title  vote_average  vote_count  \n",
       "0  Harry Potter and the Deathly Hallows: Part 1           7.7       10788  \n",
       "1                      How to Train Your Dragon           7.7        7610  \n",
       "2                                    Iron Man 2           6.8       12368  "
      ]
     },
     "execution_count": 38,
     "metadata": {},
     "output_type": "execute_result"
    }
   ],
   "source": [
    "# previewing the dataset\n",
    "\n",
    "df_ratings.head(3)"
   ]
  },
  {
   "cell_type": "code",
   "execution_count": 39,
   "metadata": {},
   "outputs": [
    {
     "name": "stdout",
     "output_type": "stream",
     "text": [
      "<class 'pandas.core.frame.DataFrame'>\n",
      "Int64Index: 26517 entries, 0 to 26516\n",
      "Data columns (total 9 columns):\n",
      " #   Column             Non-Null Count  Dtype  \n",
      "---  ------             --------------  -----  \n",
      " 0   genre_ids          26517 non-null  object \n",
      " 1   id                 26517 non-null  int64  \n",
      " 2   original_language  26517 non-null  object \n",
      " 3   original_title     26517 non-null  object \n",
      " 4   popularity         26517 non-null  float64\n",
      " 5   release_date       26517 non-null  object \n",
      " 6   title              26517 non-null  object \n",
      " 7   vote_average       26517 non-null  float64\n",
      " 8   vote_count         26517 non-null  int64  \n",
      "dtypes: float64(2), int64(2), object(5)\n",
      "memory usage: 2.0+ MB\n"
     ]
    }
   ],
   "source": [
    "# checking the data types of the columns\n",
    "\n",
    "df_ratings.info()"
   ]
  },
  {
   "cell_type": "markdown",
   "metadata": {},
   "source": [
    "From analysis, the data types of the different columns coincide with the data they hold."
   ]
  },
  {
   "cell_type": "markdown",
   "metadata": {},
   "source": [
    "Now that the data columns have the appropriate data types, the data can now be checked for missing and duplicate values."
   ]
  },
  {
   "cell_type": "code",
   "execution_count": 40,
   "metadata": {},
   "outputs": [
    {
     "data": {
      "text/plain": [
       "genre_ids            0\n",
       "id                   0\n",
       "original_language    0\n",
       "original_title       0\n",
       "popularity           0\n",
       "release_date         0\n",
       "title                0\n",
       "vote_average         0\n",
       "vote_count           0\n",
       "dtype: int64"
      ]
     },
     "execution_count": 40,
     "metadata": {},
     "output_type": "execute_result"
    }
   ],
   "source": [
    "# checking if the data has missing values\n",
    "\n",
    "df_ratings.isna().sum()"
   ]
  },
  {
   "cell_type": "markdown",
   "metadata": {},
   "source": [
    "The data has no missing values"
   ]
  },
  {
   "cell_type": "code",
   "execution_count": 41,
   "metadata": {},
   "outputs": [
    {
     "data": {
      "text/plain": [
       "1027"
      ]
     },
     "execution_count": 41,
     "metadata": {},
     "output_type": "execute_result"
    }
   ],
   "source": [
    "# checking for duplicate values\n",
    "\n",
    "df_ratings.duplicated(subset=['title', 'release_date']).sum()"
   ]
  },
  {
   "cell_type": "markdown",
   "metadata": {},
   "source": [
    "The data has 1,027 rows with duplicate data in the title and release date column, as evidenced with the above cell. These columns need to be dropped."
   ]
  },
  {
   "cell_type": "code",
   "execution_count": 42,
   "metadata": {},
   "outputs": [],
   "source": [
    "# dropping the duplicates row\n",
    "\n",
    "df_ratings.drop_duplicates(subset = ['title', 'release_date'], inplace=True)"
   ]
  },
  {
   "cell_type": "code",
   "execution_count": 43,
   "metadata": {},
   "outputs": [
    {
     "data": {
      "text/plain": [
       "(25490, 9)"
      ]
     },
     "execution_count": 43,
     "metadata": {},
     "output_type": "execute_result"
    }
   ],
   "source": [
    "df_ratings.shape"
   ]
  },
  {
   "cell_type": "markdown",
   "metadata": {},
   "source": [
    "### 2.3.4 Movie Genres Dataset"
   ]
  },
  {
   "cell_type": "code",
   "execution_count": 44,
   "metadata": {},
   "outputs": [
    {
     "data": {
      "text/html": [
       "<div>\n",
       "<style scoped>\n",
       "    .dataframe tbody tr th:only-of-type {\n",
       "        vertical-align: middle;\n",
       "    }\n",
       "\n",
       "    .dataframe tbody tr th {\n",
       "        vertical-align: top;\n",
       "    }\n",
       "\n",
       "    .dataframe thead th {\n",
       "        text-align: right;\n",
       "    }\n",
       "</style>\n",
       "<table border=\"1\" class=\"dataframe\">\n",
       "  <thead>\n",
       "    <tr style=\"text-align: right;\">\n",
       "      <th></th>\n",
       "      <th>tconst</th>\n",
       "      <th>primary_title</th>\n",
       "      <th>original_title</th>\n",
       "      <th>start_year</th>\n",
       "      <th>runtime_minutes</th>\n",
       "      <th>genres</th>\n",
       "    </tr>\n",
       "  </thead>\n",
       "  <tbody>\n",
       "    <tr>\n",
       "      <th>0</th>\n",
       "      <td>tt0063540</td>\n",
       "      <td>Sunghursh</td>\n",
       "      <td>Sunghursh</td>\n",
       "      <td>2013</td>\n",
       "      <td>175.0</td>\n",
       "      <td>Action,Crime,Drama</td>\n",
       "    </tr>\n",
       "    <tr>\n",
       "      <th>1</th>\n",
       "      <td>tt0066787</td>\n",
       "      <td>One Day Before the Rainy Season</td>\n",
       "      <td>Ashad Ka Ek Din</td>\n",
       "      <td>2019</td>\n",
       "      <td>114.0</td>\n",
       "      <td>Biography,Drama</td>\n",
       "    </tr>\n",
       "    <tr>\n",
       "      <th>2</th>\n",
       "      <td>tt0069049</td>\n",
       "      <td>The Other Side of the Wind</td>\n",
       "      <td>The Other Side of the Wind</td>\n",
       "      <td>2018</td>\n",
       "      <td>122.0</td>\n",
       "      <td>Drama</td>\n",
       "    </tr>\n",
       "    <tr>\n",
       "      <th>3</th>\n",
       "      <td>tt0069204</td>\n",
       "      <td>Sabse Bada Sukh</td>\n",
       "      <td>Sabse Bada Sukh</td>\n",
       "      <td>2018</td>\n",
       "      <td>NaN</td>\n",
       "      <td>Comedy,Drama</td>\n",
       "    </tr>\n",
       "    <tr>\n",
       "      <th>4</th>\n",
       "      <td>tt0100275</td>\n",
       "      <td>The Wandering Soap Opera</td>\n",
       "      <td>La Telenovela Errante</td>\n",
       "      <td>2017</td>\n",
       "      <td>80.0</td>\n",
       "      <td>Comedy,Drama,Fantasy</td>\n",
       "    </tr>\n",
       "  </tbody>\n",
       "</table>\n",
       "</div>"
      ],
      "text/plain": [
       "      tconst                    primary_title              original_title  \\\n",
       "0  tt0063540                        Sunghursh                   Sunghursh   \n",
       "1  tt0066787  One Day Before the Rainy Season             Ashad Ka Ek Din   \n",
       "2  tt0069049       The Other Side of the Wind  The Other Side of the Wind   \n",
       "3  tt0069204                  Sabse Bada Sukh             Sabse Bada Sukh   \n",
       "4  tt0100275         The Wandering Soap Opera       La Telenovela Errante   \n",
       "\n",
       "   start_year  runtime_minutes                genres  \n",
       "0        2013            175.0    Action,Crime,Drama  \n",
       "1        2019            114.0       Biography,Drama  \n",
       "2        2018            122.0                 Drama  \n",
       "3        2018              NaN          Comedy,Drama  \n",
       "4        2017             80.0  Comedy,Drama,Fantasy  "
      ]
     },
     "execution_count": 44,
     "metadata": {},
     "output_type": "execute_result"
    }
   ],
   "source": [
    "# previewing the data\n",
    "\n",
    "df_genres.head()"
   ]
  },
  {
   "cell_type": "code",
   "execution_count": 45,
   "metadata": {},
   "outputs": [
    {
     "name": "stdout",
     "output_type": "stream",
     "text": [
      "<class 'pandas.core.frame.DataFrame'>\n",
      "RangeIndex: 146144 entries, 0 to 146143\n",
      "Data columns (total 6 columns):\n",
      " #   Column           Non-Null Count   Dtype  \n",
      "---  ------           --------------   -----  \n",
      " 0   tconst           146144 non-null  object \n",
      " 1   primary_title    146144 non-null  object \n",
      " 2   original_title   146123 non-null  object \n",
      " 3   start_year       146144 non-null  int64  \n",
      " 4   runtime_minutes  114405 non-null  float64\n",
      " 5   genres           140736 non-null  object \n",
      "dtypes: float64(1), int64(1), object(4)\n",
      "memory usage: 6.7+ MB\n"
     ]
    }
   ],
   "source": [
    "# checking the data type of the datasets\n",
    "\n",
    "df_genres.info()"
   ]
  },
  {
   "cell_type": "markdown",
   "metadata": {},
   "source": [
    "All the column's data types correspond to the data in the columns."
   ]
  },
  {
   "cell_type": "markdown",
   "metadata": {},
   "source": [
    "Now that the data columns have the appropriate data types, the data can now be checked for missing and duplicate values."
   ]
  },
  {
   "cell_type": "code",
   "execution_count": 46,
   "metadata": {},
   "outputs": [
    {
     "data": {
      "text/plain": [
       "tconst                 0\n",
       "primary_title          0\n",
       "original_title        21\n",
       "start_year             0\n",
       "runtime_minutes    31739\n",
       "genres              5408\n",
       "dtype: int64"
      ]
     },
     "execution_count": 46,
     "metadata": {},
     "output_type": "execute_result"
    }
   ],
   "source": [
    "# checking for missing values\n",
    "\n",
    "df_genres.isna().sum()"
   ]
  },
  {
   "cell_type": "markdown",
   "metadata": {},
   "source": [
    "The columns original title, runtime minutes and genres all have missing values. Original title has 21 missing values, runtime minutes 31,739 and genres has 5,408 missing values. Runtime minutes column is not important in the analysis, hence, can be dropped. The null values in genres are not many, hence can be dropped too. A placeholder can be used in the null values under original title column."
   ]
  },
  {
   "cell_type": "code",
   "execution_count": 47,
   "metadata": {},
   "outputs": [],
   "source": [
    "# dropping runtime minutes column\n",
    "\n",
    "df_genres.drop(columns='runtime_minutes', inplace=True)"
   ]
  },
  {
   "cell_type": "code",
   "execution_count": 48,
   "metadata": {},
   "outputs": [],
   "source": [
    "# dropping the rows with null values under genre column\n",
    "\n",
    "df_genres.dropna(axis=0, subset = ['genres'], inplace=True)"
   ]
  },
  {
   "cell_type": "code",
   "execution_count": 49,
   "metadata": {},
   "outputs": [],
   "source": [
    "# filling null values with a placeholder\n",
    "\n",
    "df_genres.fillna('MISSING', inplace=True)"
   ]
  },
  {
   "cell_type": "code",
   "execution_count": 50,
   "metadata": {},
   "outputs": [
    {
     "data": {
      "text/plain": [
       "1813"
      ]
     },
     "execution_count": 50,
     "metadata": {},
     "output_type": "execute_result"
    }
   ],
   "source": [
    "# checking for duplicates\n",
    "\n",
    "df_genres.duplicated(subset= ['primary_title', 'start_year']).sum()"
   ]
  },
  {
   "cell_type": "markdown",
   "metadata": {},
   "source": [
    "As evidenced above, there are some rows with duplicate values( 1,813 rows). These rows need to be dropped."
   ]
  },
  {
   "cell_type": "code",
   "execution_count": 51,
   "metadata": {},
   "outputs": [],
   "source": [
    "# dropping the duplicate rows\n",
    "\n",
    "df_genres.drop_duplicates(subset= ['primary_title', 'start_year'], inplace = True)"
   ]
  },
  {
   "cell_type": "code",
   "execution_count": 52,
   "metadata": {},
   "outputs": [
    {
     "data": {
      "text/plain": [
       "(138923, 5)"
      ]
     },
     "execution_count": 52,
     "metadata": {},
     "output_type": "execute_result"
    }
   ],
   "source": [
    "df_genres.shape"
   ]
  },
  {
   "cell_type": "markdown",
   "metadata": {},
   "source": [
    "### 2.3.5 Crew Dataset"
   ]
  },
  {
   "cell_type": "code",
   "execution_count": 53,
   "metadata": {},
   "outputs": [
    {
     "data": {
      "text/html": [
       "<div>\n",
       "<style scoped>\n",
       "    .dataframe tbody tr th:only-of-type {\n",
       "        vertical-align: middle;\n",
       "    }\n",
       "\n",
       "    .dataframe tbody tr th {\n",
       "        vertical-align: top;\n",
       "    }\n",
       "\n",
       "    .dataframe thead th {\n",
       "        text-align: right;\n",
       "    }\n",
       "</style>\n",
       "<table border=\"1\" class=\"dataframe\">\n",
       "  <thead>\n",
       "    <tr style=\"text-align: right;\">\n",
       "      <th></th>\n",
       "      <th>tconst</th>\n",
       "      <th>directors</th>\n",
       "      <th>writers</th>\n",
       "    </tr>\n",
       "  </thead>\n",
       "  <tbody>\n",
       "    <tr>\n",
       "      <th>0</th>\n",
       "      <td>tt0285252</td>\n",
       "      <td>nm0899854</td>\n",
       "      <td>nm0899854</td>\n",
       "    </tr>\n",
       "    <tr>\n",
       "      <th>1</th>\n",
       "      <td>tt0438973</td>\n",
       "      <td>NaN</td>\n",
       "      <td>nm0175726,nm1802864</td>\n",
       "    </tr>\n",
       "    <tr>\n",
       "      <th>2</th>\n",
       "      <td>tt0462036</td>\n",
       "      <td>nm1940585</td>\n",
       "      <td>nm1940585</td>\n",
       "    </tr>\n",
       "  </tbody>\n",
       "</table>\n",
       "</div>"
      ],
      "text/plain": [
       "      tconst  directors              writers\n",
       "0  tt0285252  nm0899854            nm0899854\n",
       "1  tt0438973        NaN  nm0175726,nm1802864\n",
       "2  tt0462036  nm1940585            nm1940585"
      ]
     },
     "execution_count": 53,
     "metadata": {},
     "output_type": "execute_result"
    }
   ],
   "source": [
    "# previewing the data\n",
    "\n",
    "df_crew.head(3)"
   ]
  },
  {
   "cell_type": "code",
   "execution_count": 54,
   "metadata": {},
   "outputs": [
    {
     "name": "stdout",
     "output_type": "stream",
     "text": [
      "<class 'pandas.core.frame.DataFrame'>\n",
      "RangeIndex: 146144 entries, 0 to 146143\n",
      "Data columns (total 3 columns):\n",
      " #   Column     Non-Null Count   Dtype \n",
      "---  ------     --------------   ----- \n",
      " 0   tconst     146144 non-null  object\n",
      " 1   directors  140417 non-null  object\n",
      " 2   writers    110261 non-null  object\n",
      "dtypes: object(3)\n",
      "memory usage: 3.3+ MB\n"
     ]
    }
   ],
   "source": [
    "# checking the data type of the datasets\n",
    "\n",
    "df_crew.info()"
   ]
  },
  {
   "cell_type": "markdown",
   "metadata": {},
   "source": [
    "All the data corresponds to the data in the columns"
   ]
  },
  {
   "cell_type": "code",
   "execution_count": 55,
   "metadata": {},
   "outputs": [
    {
     "data": {
      "text/plain": [
       "tconst           0\n",
       "directors     5727\n",
       "writers      35883\n",
       "dtype: int64"
      ]
     },
     "execution_count": 55,
     "metadata": {},
     "output_type": "execute_result"
    }
   ],
   "source": [
    "# checking for missing values\n",
    "\n",
    "df_crew.isna().sum()"
   ]
  },
  {
   "cell_type": "markdown",
   "metadata": {},
   "source": [
    "The data has alot of missing data in the directors and writers columns. Since these columns will be used in the analysis later on, a place holder can be used to fill in the missing values."
   ]
  },
  {
   "cell_type": "code",
   "execution_count": 56,
   "metadata": {},
   "outputs": [],
   "source": [
    "# filling in the missing values\n",
    "\n",
    "df_crew.fillna('MISSING',inplace=True)"
   ]
  },
  {
   "cell_type": "code",
   "execution_count": 57,
   "metadata": {},
   "outputs": [
    {
     "data": {
      "text/plain": [
       "0"
      ]
     },
     "execution_count": 57,
     "metadata": {},
     "output_type": "execute_result"
    }
   ],
   "source": [
    "# checking for duplicates\n",
    "\n",
    "df_crew.duplicated().sum()"
   ]
  },
  {
   "cell_type": "markdown",
   "metadata": {},
   "source": [
    "The data has no duplicates"
   ]
  },
  {
   "cell_type": "markdown",
   "metadata": {},
   "source": [
    "## 2.4 Merging Datasets"
   ]
  },
  {
   "cell_type": "markdown",
   "metadata": {},
   "source": [
    "In order to merge the data frames, a column is identified in the dataframes with the same data. In the budget, ratings and genres datasets, they all have a column with movie titles. This column names can be renamed to a common name before merging. In this case, the columns will be renamed to 'movie'. Since the budget dataframe already has this name, it will be excluded."
   ]
  },
  {
   "cell_type": "code",
   "execution_count": 58,
   "metadata": {},
   "outputs": [],
   "source": [
    "# renaming the column\n",
    "\n",
    "df_ratings.rename(columns={'title':'movie'}, inplace=True)"
   ]
  },
  {
   "cell_type": "code",
   "execution_count": 59,
   "metadata": {},
   "outputs": [],
   "source": [
    "# renaming the column\n",
    "\n",
    "df_genres.rename(columns={'primary_title':'movie'}, inplace=True)"
   ]
  },
  {
   "cell_type": "markdown",
   "metadata": {},
   "source": [
    "The 3 dataframes can be merged now:"
   ]
  },
  {
   "cell_type": "code",
   "execution_count": 60,
   "metadata": {},
   "outputs": [],
   "source": [
    "# merging the 3 dataframes\n",
    "\n",
    "df_budget_ratings_genres = df_budget.merge(df_ratings, how = 'inner', on ='movie').merge(df_genres, how = 'inner', on ='movie')"
   ]
  },
  {
   "cell_type": "markdown",
   "metadata": {},
   "source": [
    "The dataframes name and crew need to be combined separately before being merged with the above dataframe."
   ]
  },
  {
   "cell_type": "markdown",
   "metadata": {},
   "source": [
    "In the crew dataframe, the directors column has nconst values. The directors column can be changed to this name to enable merging."
   ]
  },
  {
   "cell_type": "code",
   "execution_count": 61,
   "metadata": {},
   "outputs": [],
   "source": [
    "#renaming the column\n",
    "\n",
    "df_crew.rename(columns={'directors':'nconst'}, inplace=True)"
   ]
  },
  {
   "cell_type": "code",
   "execution_count": 62,
   "metadata": {},
   "outputs": [],
   "source": [
    "# merging the dataframes\n",
    "\n",
    "directors = pd.merge(df_crew,df_name, how='inner', on='nconst')"
   ]
  },
  {
   "cell_type": "markdown",
   "metadata": {},
   "source": [
    "Now both merged dataframes can be merged to form one dataframe using the tconst column."
   ]
  },
  {
   "cell_type": "code",
   "execution_count": 63,
   "metadata": {},
   "outputs": [
    {
     "data": {
      "text/plain": [
       "(3062, 18)"
      ]
     },
     "execution_count": 63,
     "metadata": {},
     "output_type": "execute_result"
    }
   ],
   "source": [
    "df_budget_ratings_genres.shape"
   ]
  },
  {
   "cell_type": "code",
   "execution_count": 64,
   "metadata": {},
   "outputs": [],
   "source": [
    "# merging the 2 dataframes\n",
    "\n",
    "df_final = pd.merge(df_budget_ratings_genres, directors, how='inner', on='tconst')"
   ]
  },
  {
   "cell_type": "code",
   "execution_count": 65,
   "metadata": {},
   "outputs": [
    {
     "data": {
      "text/html": [
       "<div>\n",
       "<style scoped>\n",
       "    .dataframe tbody tr th:only-of-type {\n",
       "        vertical-align: middle;\n",
       "    }\n",
       "\n",
       "    .dataframe tbody tr th {\n",
       "        vertical-align: top;\n",
       "    }\n",
       "\n",
       "    .dataframe thead th {\n",
       "        text-align: right;\n",
       "    }\n",
       "</style>\n",
       "<table border=\"1\" class=\"dataframe\">\n",
       "  <thead>\n",
       "    <tr style=\"text-align: right;\">\n",
       "      <th></th>\n",
       "      <th>id_x</th>\n",
       "      <th>release_date_x</th>\n",
       "      <th>movie</th>\n",
       "      <th>production_budget</th>\n",
       "      <th>domestic_gross</th>\n",
       "      <th>worldwide_gross</th>\n",
       "      <th>genre_ids</th>\n",
       "      <th>id_y</th>\n",
       "      <th>original_language</th>\n",
       "      <th>original_title_x</th>\n",
       "      <th>...</th>\n",
       "      <th>release_date_y</th>\n",
       "      <th>vote_average</th>\n",
       "      <th>vote_count</th>\n",
       "      <th>tconst</th>\n",
       "      <th>original_title_y</th>\n",
       "      <th>start_year</th>\n",
       "      <th>genres</th>\n",
       "      <th>nconst</th>\n",
       "      <th>writers</th>\n",
       "      <th>primary_name</th>\n",
       "    </tr>\n",
       "  </thead>\n",
       "  <tbody>\n",
       "    <tr>\n",
       "      <th>0</th>\n",
       "      <td>1</td>\n",
       "      <td>18-Dec-09</td>\n",
       "      <td>Avatar</td>\n",
       "      <td>425000000</td>\n",
       "      <td>760507625</td>\n",
       "      <td>2776345279</td>\n",
       "      <td>[28, 12, 14, 878]</td>\n",
       "      <td>19995</td>\n",
       "      <td>en</td>\n",
       "      <td>Avatar</td>\n",
       "      <td>...</td>\n",
       "      <td>2009-12-18</td>\n",
       "      <td>7.4</td>\n",
       "      <td>18676</td>\n",
       "      <td>tt1775309</td>\n",
       "      <td>Abatâ</td>\n",
       "      <td>2009</td>\n",
       "      <td>Action, Sci-Fi</td>\n",
       "      <td>nm3786927</td>\n",
       "      <td>nm2179863,nm4392664</td>\n",
       "      <td>James Cameron</td>\n",
       "    </tr>\n",
       "    <tr>\n",
       "      <th>1</th>\n",
       "      <td>2</td>\n",
       "      <td>20-May-11</td>\n",
       "      <td>Pirates of the Caribbean: On Stranger Tides</td>\n",
       "      <td>410600000</td>\n",
       "      <td>241063875</td>\n",
       "      <td>1045663875</td>\n",
       "      <td>[12, 28, 14]</td>\n",
       "      <td>1865</td>\n",
       "      <td>en</td>\n",
       "      <td>Pirates of the Caribbean: On Stranger Tides</td>\n",
       "      <td>...</td>\n",
       "      <td>2011-05-20</td>\n",
       "      <td>6.4</td>\n",
       "      <td>8571</td>\n",
       "      <td>tt1298650</td>\n",
       "      <td>Pirates of the Caribbean: On Stranger Tides</td>\n",
       "      <td>2011</td>\n",
       "      <td>Action,Adventure,Fantasy</td>\n",
       "      <td>nm0551128</td>\n",
       "      <td>nm0254645,nm0744429,nm0064181,nm0938684,nm0694627</td>\n",
       "      <td>Rob Marshall</td>\n",
       "    </tr>\n",
       "    <tr>\n",
       "      <th>2</th>\n",
       "      <td>4</td>\n",
       "      <td>1-May-15</td>\n",
       "      <td>Avengers: Age of Ultron</td>\n",
       "      <td>330600000</td>\n",
       "      <td>459005868</td>\n",
       "      <td>1403013963</td>\n",
       "      <td>[28, 12, 878]</td>\n",
       "      <td>99861</td>\n",
       "      <td>en</td>\n",
       "      <td>Avengers: Age of Ultron</td>\n",
       "      <td>...</td>\n",
       "      <td>2015-05-01</td>\n",
       "      <td>7.3</td>\n",
       "      <td>13457</td>\n",
       "      <td>tt2395427</td>\n",
       "      <td>Avengers: Age of Ultron</td>\n",
       "      <td>2015</td>\n",
       "      <td>Action,Adventure,Sci-Fi</td>\n",
       "      <td>nm0923736</td>\n",
       "      <td>nm0923736,nm0498278,nm0456158,nm0800209,nm4160687</td>\n",
       "      <td>Joss Whedon</td>\n",
       "    </tr>\n",
       "  </tbody>\n",
       "</table>\n",
       "<p>3 rows × 21 columns</p>\n",
       "</div>"
      ],
      "text/plain": [
       "   id_x release_date_x                                        movie  \\\n",
       "0     1      18-Dec-09                                       Avatar   \n",
       "1     2      20-May-11  Pirates of the Caribbean: On Stranger Tides   \n",
       "2     4       1-May-15                      Avengers: Age of Ultron   \n",
       "\n",
       "   production_budget  domestic_gross  worldwide_gross          genre_ids  \\\n",
       "0          425000000       760507625       2776345279  [28, 12, 14, 878]   \n",
       "1          410600000       241063875       1045663875       [12, 28, 14]   \n",
       "2          330600000       459005868       1403013963      [28, 12, 878]   \n",
       "\n",
       "    id_y original_language                             original_title_x  ...  \\\n",
       "0  19995                en                                       Avatar  ...   \n",
       "1   1865                en  Pirates of the Caribbean: On Stranger Tides  ...   \n",
       "2  99861                en                      Avengers: Age of Ultron  ...   \n",
       "\n",
       "   release_date_y vote_average  vote_count     tconst  \\\n",
       "0      2009-12-18          7.4       18676  tt1775309   \n",
       "1      2011-05-20          6.4        8571  tt1298650   \n",
       "2      2015-05-01          7.3       13457  tt2395427   \n",
       "\n",
       "                              original_title_y start_year  \\\n",
       "0                                        Abatâ       2009   \n",
       "1  Pirates of the Caribbean: On Stranger Tides       2011   \n",
       "2                      Avengers: Age of Ultron       2015   \n",
       "\n",
       "                     genres     nconst  \\\n",
       "0            Action, Sci-Fi  nm3786927   \n",
       "1  Action,Adventure,Fantasy  nm0551128   \n",
       "2   Action,Adventure,Sci-Fi  nm0923736   \n",
       "\n",
       "                                             writers   primary_name  \n",
       "0                                nm2179863,nm4392664  James Cameron  \n",
       "1  nm0254645,nm0744429,nm0064181,nm0938684,nm0694627   Rob Marshall  \n",
       "2  nm0923736,nm0498278,nm0456158,nm0800209,nm4160687    Joss Whedon  \n",
       "\n",
       "[3 rows x 21 columns]"
      ]
     },
     "execution_count": 65,
     "metadata": {},
     "output_type": "execute_result"
    }
   ],
   "source": [
    "df_final.head(3)"
   ]
  },
  {
   "cell_type": "code",
   "execution_count": 66,
   "metadata": {},
   "outputs": [],
   "source": [
    "# dropping unnecessary columns\n",
    "\n",
    "df_final.drop(columns=['genre_ids','id_x','id_y','original_language','popularity','nconst','original_title_x','original_title_y','writers','release_date_y','tconst'], inplace=True)"
   ]
  },
  {
   "cell_type": "code",
   "execution_count": 67,
   "metadata": {},
   "outputs": [],
   "source": [
    "# rounding up the production budget,domestic and worldwide gross to millions\n",
    "\n",
    "df_final['production_budget'] = df_final['production_budget']/1000000\n",
    "df_final['domestic_gross'] = df_final['domestic_gross']/1000000\n",
    "df_final['worldwide_gross'] = df_final['worldwide_gross']/1000000"
   ]
  },
  {
   "cell_type": "code",
   "execution_count": 68,
   "metadata": {},
   "outputs": [],
   "source": [
    "# renaming the columns\n",
    "\n",
    "df_final.rename(columns={'release_date_x':'release_date','primary_name':'directors_name','production_budget':'production_budget_millions','domestic_gross':'domestic_gross_millions','worldwide_gross':'worldwide_gross_millions'},inplace=True)"
   ]
  },
  {
   "cell_type": "markdown",
   "metadata": {},
   "source": [
    "Using the assumption that profits made on a movie is the difference between the total gross and the production budget, the profits for the dataset are calculated."
   ]
  },
  {
   "cell_type": "code",
   "execution_count": 69,
   "metadata": {},
   "outputs": [],
   "source": [
    "# calculating the profit per movie\n",
    "\n",
    "df_final['movie_profits_millions'] = ((df_final['worldwide_gross_millions'] - df_final['production_budget_millions'])).astype('float64')"
   ]
  },
  {
   "cell_type": "code",
   "execution_count": 70,
   "metadata": {},
   "outputs": [],
   "source": [
    "column_names ='release_date','movie','production_budget_millions','domestic_gross_millions','worldwide_gross_millions','movie_profits_millions','genres','directors_name','vote_average','vote_count','popularity','start_year'"
   ]
  },
  {
   "cell_type": "code",
   "execution_count": 71,
   "metadata": {},
   "outputs": [
    {
     "data": {
      "text/html": [
       "<div>\n",
       "<style scoped>\n",
       "    .dataframe tbody tr th:only-of-type {\n",
       "        vertical-align: middle;\n",
       "    }\n",
       "\n",
       "    .dataframe tbody tr th {\n",
       "        vertical-align: top;\n",
       "    }\n",
       "\n",
       "    .dataframe thead th {\n",
       "        text-align: right;\n",
       "    }\n",
       "</style>\n",
       "<table border=\"1\" class=\"dataframe\">\n",
       "  <thead>\n",
       "    <tr style=\"text-align: right;\">\n",
       "      <th></th>\n",
       "      <th>release_date</th>\n",
       "      <th>movie</th>\n",
       "      <th>production_budget_millions</th>\n",
       "      <th>domestic_gross_millions</th>\n",
       "      <th>worldwide_gross_millions</th>\n",
       "      <th>movie_profits_millions</th>\n",
       "      <th>genres</th>\n",
       "      <th>directors_name</th>\n",
       "      <th>vote_average</th>\n",
       "      <th>vote_count</th>\n",
       "      <th>popularity</th>\n",
       "      <th>start_year</th>\n",
       "    </tr>\n",
       "  </thead>\n",
       "  <tbody>\n",
       "    <tr>\n",
       "      <th>0</th>\n",
       "      <td>18-Dec-09</td>\n",
       "      <td>Avatar</td>\n",
       "      <td>425.000</td>\n",
       "      <td>760.507625</td>\n",
       "      <td>2776.345279</td>\n",
       "      <td>2351.345279</td>\n",
       "      <td>Action, Sci-Fi</td>\n",
       "      <td>James Cameron</td>\n",
       "      <td>7.4</td>\n",
       "      <td>18676</td>\n",
       "      <td>NaN</td>\n",
       "      <td>2009</td>\n",
       "    </tr>\n",
       "    <tr>\n",
       "      <th>1</th>\n",
       "      <td>20-May-11</td>\n",
       "      <td>Pirates of the Caribbean: On Stranger Tides</td>\n",
       "      <td>410.600</td>\n",
       "      <td>241.063875</td>\n",
       "      <td>1045.663875</td>\n",
       "      <td>635.063875</td>\n",
       "      <td>Action,Adventure,Fantasy</td>\n",
       "      <td>Rob Marshall</td>\n",
       "      <td>6.4</td>\n",
       "      <td>8571</td>\n",
       "      <td>NaN</td>\n",
       "      <td>2011</td>\n",
       "    </tr>\n",
       "    <tr>\n",
       "      <th>2</th>\n",
       "      <td>1-May-15</td>\n",
       "      <td>Avengers: Age of Ultron</td>\n",
       "      <td>330.600</td>\n",
       "      <td>459.005868</td>\n",
       "      <td>1403.013963</td>\n",
       "      <td>1072.413963</td>\n",
       "      <td>Action,Adventure,Sci-Fi</td>\n",
       "      <td>Joss Whedon</td>\n",
       "      <td>7.3</td>\n",
       "      <td>13457</td>\n",
       "      <td>NaN</td>\n",
       "      <td>2015</td>\n",
       "    </tr>\n",
       "    <tr>\n",
       "      <th>3</th>\n",
       "      <td>17-Nov-17</td>\n",
       "      <td>Justice League</td>\n",
       "      <td>300.000</td>\n",
       "      <td>229.024295</td>\n",
       "      <td>655.945209</td>\n",
       "      <td>355.945209</td>\n",
       "      <td>Action,Adventure,Fantasy</td>\n",
       "      <td>Zack Snyder</td>\n",
       "      <td>6.2</td>\n",
       "      <td>7510</td>\n",
       "      <td>NaN</td>\n",
       "      <td>2017</td>\n",
       "    </tr>\n",
       "    <tr>\n",
       "      <th>4</th>\n",
       "      <td>6-Nov-15</td>\n",
       "      <td>Spectre</td>\n",
       "      <td>300.000</td>\n",
       "      <td>200.074175</td>\n",
       "      <td>879.620923</td>\n",
       "      <td>579.620923</td>\n",
       "      <td>Action,Adventure,Thriller</td>\n",
       "      <td>Sam Mendes</td>\n",
       "      <td>6.4</td>\n",
       "      <td>6719</td>\n",
       "      <td>NaN</td>\n",
       "      <td>2015</td>\n",
       "    </tr>\n",
       "    <tr>\n",
       "      <th>...</th>\n",
       "      <td>...</td>\n",
       "      <td>...</td>\n",
       "      <td>...</td>\n",
       "      <td>...</td>\n",
       "      <td>...</td>\n",
       "      <td>...</td>\n",
       "      <td>...</td>\n",
       "      <td>...</td>\n",
       "      <td>...</td>\n",
       "      <td>...</td>\n",
       "      <td>...</td>\n",
       "      <td>...</td>\n",
       "    </tr>\n",
       "    <tr>\n",
       "      <th>2746</th>\n",
       "      <td>27-Jan-17</td>\n",
       "      <td>Emily</td>\n",
       "      <td>0.027</td>\n",
       "      <td>0.003547</td>\n",
       "      <td>0.003547</td>\n",
       "      <td>-0.023453</td>\n",
       "      <td>Drama</td>\n",
       "      <td>Ryan Graves</td>\n",
       "      <td>7.0</td>\n",
       "      <td>1</td>\n",
       "      <td>NaN</td>\n",
       "      <td>2017</td>\n",
       "    </tr>\n",
       "    <tr>\n",
       "      <th>2747</th>\n",
       "      <td>27-Jan-17</td>\n",
       "      <td>Emily</td>\n",
       "      <td>0.027</td>\n",
       "      <td>0.003547</td>\n",
       "      <td>0.003547</td>\n",
       "      <td>-0.023453</td>\n",
       "      <td>Documentary</td>\n",
       "      <td>Pj Mills</td>\n",
       "      <td>7.0</td>\n",
       "      <td>1</td>\n",
       "      <td>NaN</td>\n",
       "      <td>2013</td>\n",
       "    </tr>\n",
       "    <tr>\n",
       "      <th>2748</th>\n",
       "      <td>1-Sep-15</td>\n",
       "      <td>Exeter</td>\n",
       "      <td>0.025</td>\n",
       "      <td>0.000000</td>\n",
       "      <td>0.489792</td>\n",
       "      <td>0.464792</td>\n",
       "      <td>Horror,Mystery,Thriller</td>\n",
       "      <td>Marcus Nispel</td>\n",
       "      <td>4.7</td>\n",
       "      <td>121</td>\n",
       "      <td>NaN</td>\n",
       "      <td>2015</td>\n",
       "    </tr>\n",
       "    <tr>\n",
       "      <th>2749</th>\n",
       "      <td>1-Sep-15</td>\n",
       "      <td>Exeter</td>\n",
       "      <td>0.025</td>\n",
       "      <td>0.000000</td>\n",
       "      <td>0.489792</td>\n",
       "      <td>0.464792</td>\n",
       "      <td>Horror</td>\n",
       "      <td>Ann Tramonte</td>\n",
       "      <td>4.7</td>\n",
       "      <td>121</td>\n",
       "      <td>NaN</td>\n",
       "      <td>2014</td>\n",
       "    </tr>\n",
       "    <tr>\n",
       "      <th>2750</th>\n",
       "      <td>13-Jan-12</td>\n",
       "      <td>Newlyweds</td>\n",
       "      <td>0.009</td>\n",
       "      <td>0.004584</td>\n",
       "      <td>0.004584</td>\n",
       "      <td>-0.004416</td>\n",
       "      <td>Comedy,Drama</td>\n",
       "      <td>Edward Burns</td>\n",
       "      <td>5.4</td>\n",
       "      <td>7</td>\n",
       "      <td>NaN</td>\n",
       "      <td>2011</td>\n",
       "    </tr>\n",
       "  </tbody>\n",
       "</table>\n",
       "<p>2751 rows × 12 columns</p>\n",
       "</div>"
      ],
      "text/plain": [
       "     release_date                                        movie  \\\n",
       "0       18-Dec-09                                       Avatar   \n",
       "1       20-May-11  Pirates of the Caribbean: On Stranger Tides   \n",
       "2        1-May-15                      Avengers: Age of Ultron   \n",
       "3       17-Nov-17                               Justice League   \n",
       "4        6-Nov-15                                      Spectre   \n",
       "...           ...                                          ...   \n",
       "2746    27-Jan-17                                        Emily   \n",
       "2747    27-Jan-17                                        Emily   \n",
       "2748     1-Sep-15                                       Exeter   \n",
       "2749     1-Sep-15                                       Exeter   \n",
       "2750    13-Jan-12                                    Newlyweds   \n",
       "\n",
       "      production_budget_millions  domestic_gross_millions  \\\n",
       "0                        425.000               760.507625   \n",
       "1                        410.600               241.063875   \n",
       "2                        330.600               459.005868   \n",
       "3                        300.000               229.024295   \n",
       "4                        300.000               200.074175   \n",
       "...                          ...                      ...   \n",
       "2746                       0.027                 0.003547   \n",
       "2747                       0.027                 0.003547   \n",
       "2748                       0.025                 0.000000   \n",
       "2749                       0.025                 0.000000   \n",
       "2750                       0.009                 0.004584   \n",
       "\n",
       "      worldwide_gross_millions  movie_profits_millions  \\\n",
       "0                  2776.345279             2351.345279   \n",
       "1                  1045.663875              635.063875   \n",
       "2                  1403.013963             1072.413963   \n",
       "3                   655.945209              355.945209   \n",
       "4                   879.620923              579.620923   \n",
       "...                        ...                     ...   \n",
       "2746                  0.003547               -0.023453   \n",
       "2747                  0.003547               -0.023453   \n",
       "2748                  0.489792                0.464792   \n",
       "2749                  0.489792                0.464792   \n",
       "2750                  0.004584               -0.004416   \n",
       "\n",
       "                         genres directors_name  vote_average  vote_count  \\\n",
       "0                Action, Sci-Fi  James Cameron           7.4       18676   \n",
       "1      Action,Adventure,Fantasy   Rob Marshall           6.4        8571   \n",
       "2       Action,Adventure,Sci-Fi    Joss Whedon           7.3       13457   \n",
       "3      Action,Adventure,Fantasy    Zack Snyder           6.2        7510   \n",
       "4     Action,Adventure,Thriller     Sam Mendes           6.4        6719   \n",
       "...                         ...            ...           ...         ...   \n",
       "2746                      Drama    Ryan Graves           7.0           1   \n",
       "2747                Documentary       Pj Mills           7.0           1   \n",
       "2748    Horror,Mystery,Thriller  Marcus Nispel           4.7         121   \n",
       "2749                     Horror   Ann Tramonte           4.7         121   \n",
       "2750               Comedy,Drama   Edward Burns           5.4           7   \n",
       "\n",
       "      popularity  start_year  \n",
       "0            NaN        2009  \n",
       "1            NaN        2011  \n",
       "2            NaN        2015  \n",
       "3            NaN        2017  \n",
       "4            NaN        2015  \n",
       "...          ...         ...  \n",
       "2746         NaN        2017  \n",
       "2747         NaN        2013  \n",
       "2748         NaN        2015  \n",
       "2749         NaN        2014  \n",
       "2750         NaN        2011  \n",
       "\n",
       "[2751 rows x 12 columns]"
      ]
     },
     "execution_count": 71,
     "metadata": {},
     "output_type": "execute_result"
    }
   ],
   "source": [
    "# reordering the columns\n",
    "\n",
    "df_final.reindex(columns=column_names)"
   ]
  },
  {
   "cell_type": "code",
   "execution_count": 72,
   "metadata": {},
   "outputs": [
    {
     "data": {
      "text/plain": [
       "release_date                  0\n",
       "movie                         0\n",
       "production_budget_millions    0\n",
       "domestic_gross_millions       0\n",
       "worldwide_gross_millions      0\n",
       "vote_average                  0\n",
       "vote_count                    0\n",
       "start_year                    0\n",
       "genres                        0\n",
       "directors_name                0\n",
       "movie_profits_millions        0\n",
       "dtype: int64"
      ]
     },
     "execution_count": 72,
     "metadata": {},
     "output_type": "execute_result"
    }
   ],
   "source": [
    "# checking for null values\n",
    "\n",
    "df_final.isna().sum()"
   ]
  },
  {
   "cell_type": "code",
   "execution_count": 73,
   "metadata": {},
   "outputs": [
    {
     "data": {
      "text/plain": [
       "575"
      ]
     },
     "execution_count": 73,
     "metadata": {},
     "output_type": "execute_result"
    }
   ],
   "source": [
    "# checking for duplicates\n",
    "\n",
    "df_final.duplicated(['movie','release_date','start_year']).sum()"
   ]
  },
  {
   "cell_type": "code",
   "execution_count": 74,
   "metadata": {},
   "outputs": [],
   "source": [
    "df_final.drop_duplicates(subset= ['movie','release_date'] ,inplace=True)"
   ]
  },
  {
   "cell_type": "code",
   "execution_count": 75,
   "metadata": {},
   "outputs": [],
   "source": [
    "# Exporting this combined dataframe to a csv\n",
    "\n",
    "df_final.to_csv('Final Combined Microsoft Data.csv')"
   ]
  },
  {
   "cell_type": "markdown",
   "metadata": {},
   "source": [
    "# *3. Exploratory Data Analysis (EDA)*"
   ]
  },
  {
   "cell_type": "markdown",
   "metadata": {},
   "source": [
    "### 3.1 What movies are highly rated and grossing the highest?"
   ]
  },
  {
   "cell_type": "code",
   "execution_count": 76,
   "metadata": {},
   "outputs": [],
   "source": [
    "# sorting to find movies with the highest ratings per votes cast\n",
    "\n",
    "movie_ratings = df_final.sort_values(by = ['vote_count', 'vote_average'],ascending=(False, False)).head(10)\n",
    "movie_ratings = movie_ratings.sort_values('vote_average',ascending=False).reset_index(drop=True)"
   ]
  },
  {
   "cell_type": "code",
   "execution_count": 77,
   "metadata": {},
   "outputs": [
    {
     "data": {
      "text/html": [
       "<div>\n",
       "<style scoped>\n",
       "    .dataframe tbody tr th:only-of-type {\n",
       "        vertical-align: middle;\n",
       "    }\n",
       "\n",
       "    .dataframe tbody tr th {\n",
       "        vertical-align: top;\n",
       "    }\n",
       "\n",
       "    .dataframe thead th {\n",
       "        text-align: right;\n",
       "    }\n",
       "</style>\n",
       "<table border=\"1\" class=\"dataframe\">\n",
       "  <thead>\n",
       "    <tr style=\"text-align: right;\">\n",
       "      <th></th>\n",
       "      <th>movie</th>\n",
       "      <th>vote_average</th>\n",
       "      <th>directors_name</th>\n",
       "    </tr>\n",
       "  </thead>\n",
       "  <tbody>\n",
       "    <tr>\n",
       "      <th>0</th>\n",
       "      <td>Inception</td>\n",
       "      <td>8.3</td>\n",
       "      <td>Christopher Nolan</td>\n",
       "    </tr>\n",
       "    <tr>\n",
       "      <th>1</th>\n",
       "      <td>Interstellar</td>\n",
       "      <td>8.2</td>\n",
       "      <td>Christopher Nolan</td>\n",
       "    </tr>\n",
       "    <tr>\n",
       "      <th>2</th>\n",
       "      <td>Django Unchained</td>\n",
       "      <td>8.0</td>\n",
       "      <td>Quentin Tarantino</td>\n",
       "    </tr>\n",
       "    <tr>\n",
       "      <th>3</th>\n",
       "      <td>Guardians of the Galaxy</td>\n",
       "      <td>7.9</td>\n",
       "      <td>James Gunn</td>\n",
       "    </tr>\n",
       "    <tr>\n",
       "      <th>4</th>\n",
       "      <td>Deadpool</td>\n",
       "      <td>7.6</td>\n",
       "      <td>Tim Miller</td>\n",
       "    </tr>\n",
       "    <tr>\n",
       "      <th>5</th>\n",
       "      <td>The Avengers</td>\n",
       "      <td>7.6</td>\n",
       "      <td>Joss Whedon</td>\n",
       "    </tr>\n",
       "    <tr>\n",
       "      <th>6</th>\n",
       "      <td>Avatar</td>\n",
       "      <td>7.4</td>\n",
       "      <td>James Cameron</td>\n",
       "    </tr>\n",
       "    <tr>\n",
       "      <th>7</th>\n",
       "      <td>Mad Max: Fury Road</td>\n",
       "      <td>7.4</td>\n",
       "      <td>George Miller</td>\n",
       "    </tr>\n",
       "    <tr>\n",
       "      <th>8</th>\n",
       "      <td>The Hunger Games</td>\n",
       "      <td>7.1</td>\n",
       "      <td>Gary Ross</td>\n",
       "    </tr>\n",
       "    <tr>\n",
       "      <th>9</th>\n",
       "      <td>Iron Man 3</td>\n",
       "      <td>6.9</td>\n",
       "      <td>Shane Black</td>\n",
       "    </tr>\n",
       "  </tbody>\n",
       "</table>\n",
       "</div>"
      ],
      "text/plain": [
       "                     movie  vote_average     directors_name\n",
       "0                Inception           8.3  Christopher Nolan\n",
       "1             Interstellar           8.2  Christopher Nolan\n",
       "2         Django Unchained           8.0  Quentin Tarantino\n",
       "3  Guardians of the Galaxy           7.9         James Gunn\n",
       "4                 Deadpool           7.6         Tim Miller\n",
       "5             The Avengers           7.6        Joss Whedon\n",
       "6                   Avatar           7.4      James Cameron\n",
       "7       Mad Max: Fury Road           7.4      George Miller\n",
       "8         The Hunger Games           7.1          Gary Ross\n",
       "9               Iron Man 3           6.9        Shane Black"
      ]
     },
     "execution_count": 77,
     "metadata": {},
     "output_type": "execute_result"
    }
   ],
   "source": [
    "# movies with the highest ratings\n",
    "\n",
    "movie_ratings.loc[:,['movie','vote_average','directors_name']]"
   ]
  },
  {
   "cell_type": "code",
   "execution_count": 78,
   "metadata": {},
   "outputs": [
    {
     "data": {
      "text/html": [
       "<div>\n",
       "<style scoped>\n",
       "    .dataframe tbody tr th:only-of-type {\n",
       "        vertical-align: middle;\n",
       "    }\n",
       "\n",
       "    .dataframe tbody tr th {\n",
       "        vertical-align: top;\n",
       "    }\n",
       "\n",
       "    .dataframe thead th {\n",
       "        text-align: right;\n",
       "    }\n",
       "</style>\n",
       "<table border=\"1\" class=\"dataframe\">\n",
       "  <thead>\n",
       "    <tr style=\"text-align: right;\">\n",
       "      <th></th>\n",
       "      <th>release_date</th>\n",
       "      <th>movie</th>\n",
       "      <th>production_budget_millions</th>\n",
       "      <th>domestic_gross_millions</th>\n",
       "      <th>worldwide_gross_millions</th>\n",
       "      <th>vote_average</th>\n",
       "      <th>vote_count</th>\n",
       "      <th>start_year</th>\n",
       "      <th>genres</th>\n",
       "      <th>directors_name</th>\n",
       "      <th>movie_profits_millions</th>\n",
       "    </tr>\n",
       "  </thead>\n",
       "  <tbody>\n",
       "    <tr>\n",
       "      <th>0</th>\n",
       "      <td>18-Dec-09</td>\n",
       "      <td>Avatar</td>\n",
       "      <td>425.0</td>\n",
       "      <td>760.507625</td>\n",
       "      <td>2776.345279</td>\n",
       "      <td>7.4</td>\n",
       "      <td>18676</td>\n",
       "      <td>2009</td>\n",
       "      <td>Action, Sci-Fi</td>\n",
       "      <td>James Cameron</td>\n",
       "      <td>2351.345279</td>\n",
       "    </tr>\n",
       "    <tr>\n",
       "      <th>1</th>\n",
       "      <td>12-Jun-15</td>\n",
       "      <td>Jurassic World</td>\n",
       "      <td>215.0</td>\n",
       "      <td>652.270625</td>\n",
       "      <td>1648.854864</td>\n",
       "      <td>6.6</td>\n",
       "      <td>14056</td>\n",
       "      <td>2015</td>\n",
       "      <td>Action,Adventure,Sci-Fi</td>\n",
       "      <td>Colin Trevorrow</td>\n",
       "      <td>1433.854864</td>\n",
       "    </tr>\n",
       "    <tr>\n",
       "      <th>2</th>\n",
       "      <td>3-Apr-15</td>\n",
       "      <td>Furious 7</td>\n",
       "      <td>190.0</td>\n",
       "      <td>353.007020</td>\n",
       "      <td>1518.722794</td>\n",
       "      <td>7.3</td>\n",
       "      <td>6538</td>\n",
       "      <td>2015</td>\n",
       "      <td>Action,Crime,Thriller</td>\n",
       "      <td>James Wan</td>\n",
       "      <td>1328.722794</td>\n",
       "    </tr>\n",
       "    <tr>\n",
       "      <th>3</th>\n",
       "      <td>4-May-12</td>\n",
       "      <td>The Avengers</td>\n",
       "      <td>225.0</td>\n",
       "      <td>623.279547</td>\n",
       "      <td>1517.935897</td>\n",
       "      <td>7.6</td>\n",
       "      <td>19673</td>\n",
       "      <td>2012</td>\n",
       "      <td>Action,Adventure,Sci-Fi</td>\n",
       "      <td>Joss Whedon</td>\n",
       "      <td>1292.935897</td>\n",
       "    </tr>\n",
       "    <tr>\n",
       "      <th>4</th>\n",
       "      <td>1-May-15</td>\n",
       "      <td>Avengers: Age of Ultron</td>\n",
       "      <td>330.6</td>\n",
       "      <td>459.005868</td>\n",
       "      <td>1403.013963</td>\n",
       "      <td>7.3</td>\n",
       "      <td>13457</td>\n",
       "      <td>2015</td>\n",
       "      <td>Action,Adventure,Sci-Fi</td>\n",
       "      <td>Joss Whedon</td>\n",
       "      <td>1072.413963</td>\n",
       "    </tr>\n",
       "    <tr>\n",
       "      <th>5</th>\n",
       "      <td>16-Feb-18</td>\n",
       "      <td>Black Panther</td>\n",
       "      <td>200.0</td>\n",
       "      <td>700.059566</td>\n",
       "      <td>1348.258224</td>\n",
       "      <td>5.1</td>\n",
       "      <td>11</td>\n",
       "      <td>2018</td>\n",
       "      <td>Action,Adventure,Sci-Fi</td>\n",
       "      <td>Ryan Coogler</td>\n",
       "      <td>1148.258224</td>\n",
       "    </tr>\n",
       "    <tr>\n",
       "      <th>6</th>\n",
       "      <td>22-Jun-18</td>\n",
       "      <td>Jurassic World: Fallen Kingdom</td>\n",
       "      <td>170.0</td>\n",
       "      <td>417.719760</td>\n",
       "      <td>1305.772799</td>\n",
       "      <td>6.5</td>\n",
       "      <td>5995</td>\n",
       "      <td>2018</td>\n",
       "      <td>Action,Adventure,Sci-Fi</td>\n",
       "      <td>J.A. Bayona</td>\n",
       "      <td>1135.772799</td>\n",
       "    </tr>\n",
       "    <tr>\n",
       "      <th>7</th>\n",
       "      <td>22-Nov-13</td>\n",
       "      <td>Frozen</td>\n",
       "      <td>150.0</td>\n",
       "      <td>400.738009</td>\n",
       "      <td>1272.469910</td>\n",
       "      <td>5.8</td>\n",
       "      <td>987</td>\n",
       "      <td>2010</td>\n",
       "      <td>Adventure,Drama,Sport</td>\n",
       "      <td>Adam Green</td>\n",
       "      <td>1122.469910</td>\n",
       "    </tr>\n",
       "    <tr>\n",
       "      <th>8</th>\n",
       "      <td>17-Mar-17</td>\n",
       "      <td>Beauty and the Beast</td>\n",
       "      <td>160.0</td>\n",
       "      <td>504.014165</td>\n",
       "      <td>1259.199706</td>\n",
       "      <td>7.7</td>\n",
       "      <td>5730</td>\n",
       "      <td>2014</td>\n",
       "      <td>Drama,Fantasy,Romance</td>\n",
       "      <td>Christophe Gans</td>\n",
       "      <td>1099.199706</td>\n",
       "    </tr>\n",
       "    <tr>\n",
       "      <th>9</th>\n",
       "      <td>15-Jun-18</td>\n",
       "      <td>Incredibles 2</td>\n",
       "      <td>200.0</td>\n",
       "      <td>608.581744</td>\n",
       "      <td>1242.520711</td>\n",
       "      <td>7.6</td>\n",
       "      <td>6354</td>\n",
       "      <td>2018</td>\n",
       "      <td>Action,Adventure,Animation</td>\n",
       "      <td>Brad Bird</td>\n",
       "      <td>1042.520711</td>\n",
       "    </tr>\n",
       "  </tbody>\n",
       "</table>\n",
       "</div>"
      ],
      "text/plain": [
       "  release_date                           movie  production_budget_millions  \\\n",
       "0    18-Dec-09                          Avatar                       425.0   \n",
       "1    12-Jun-15                  Jurassic World                       215.0   \n",
       "2     3-Apr-15                       Furious 7                       190.0   \n",
       "3     4-May-12                    The Avengers                       225.0   \n",
       "4     1-May-15         Avengers: Age of Ultron                       330.6   \n",
       "5    16-Feb-18                   Black Panther                       200.0   \n",
       "6    22-Jun-18  Jurassic World: Fallen Kingdom                       170.0   \n",
       "7    22-Nov-13                          Frozen                       150.0   \n",
       "8    17-Mar-17            Beauty and the Beast                       160.0   \n",
       "9    15-Jun-18                   Incredibles 2                       200.0   \n",
       "\n",
       "   domestic_gross_millions  worldwide_gross_millions  vote_average  \\\n",
       "0               760.507625               2776.345279           7.4   \n",
       "1               652.270625               1648.854864           6.6   \n",
       "2               353.007020               1518.722794           7.3   \n",
       "3               623.279547               1517.935897           7.6   \n",
       "4               459.005868               1403.013963           7.3   \n",
       "5               700.059566               1348.258224           5.1   \n",
       "6               417.719760               1305.772799           6.5   \n",
       "7               400.738009               1272.469910           5.8   \n",
       "8               504.014165               1259.199706           7.7   \n",
       "9               608.581744               1242.520711           7.6   \n",
       "\n",
       "   vote_count  start_year                      genres   directors_name  \\\n",
       "0       18676        2009              Action, Sci-Fi    James Cameron   \n",
       "1       14056        2015     Action,Adventure,Sci-Fi  Colin Trevorrow   \n",
       "2        6538        2015       Action,Crime,Thriller        James Wan   \n",
       "3       19673        2012     Action,Adventure,Sci-Fi      Joss Whedon   \n",
       "4       13457        2015     Action,Adventure,Sci-Fi      Joss Whedon   \n",
       "5          11        2018     Action,Adventure,Sci-Fi     Ryan Coogler   \n",
       "6        5995        2018     Action,Adventure,Sci-Fi      J.A. Bayona   \n",
       "7         987        2010       Adventure,Drama,Sport       Adam Green   \n",
       "8        5730        2014       Drama,Fantasy,Romance  Christophe Gans   \n",
       "9        6354        2018  Action,Adventure,Animation        Brad Bird   \n",
       "\n",
       "   movie_profits_millions  \n",
       "0             2351.345279  \n",
       "1             1433.854864  \n",
       "2             1328.722794  \n",
       "3             1292.935897  \n",
       "4             1072.413963  \n",
       "5             1148.258224  \n",
       "6             1135.772799  \n",
       "7             1122.469910  \n",
       "8             1099.199706  \n",
       "9             1042.520711  "
      ]
     },
     "execution_count": 78,
     "metadata": {},
     "output_type": "execute_result"
    }
   ],
   "source": [
    "# sorting values to find movies with the highest grossing\n",
    "\n",
    "df_biggest_gross = df_final.sort_values('worldwide_gross_millions', ascending = False).head(10)\n",
    "df_biggest_gross.reset_index(drop=True)"
   ]
  },
  {
   "cell_type": "code",
   "execution_count": 79,
   "metadata": {},
   "outputs": [
    {
     "data": {
      "text/html": [
       "<div>\n",
       "<style scoped>\n",
       "    .dataframe tbody tr th:only-of-type {\n",
       "        vertical-align: middle;\n",
       "    }\n",
       "\n",
       "    .dataframe tbody tr th {\n",
       "        vertical-align: top;\n",
       "    }\n",
       "\n",
       "    .dataframe thead th {\n",
       "        text-align: right;\n",
       "    }\n",
       "</style>\n",
       "<table border=\"1\" class=\"dataframe\">\n",
       "  <thead>\n",
       "    <tr style=\"text-align: right;\">\n",
       "      <th></th>\n",
       "      <th>movie</th>\n",
       "      <th>worldwide_gross_millions</th>\n",
       "    </tr>\n",
       "  </thead>\n",
       "  <tbody>\n",
       "    <tr>\n",
       "      <th>0</th>\n",
       "      <td>Avatar</td>\n",
       "      <td>2776.345279</td>\n",
       "    </tr>\n",
       "    <tr>\n",
       "      <th>19</th>\n",
       "      <td>Jurassic World</td>\n",
       "      <td>1648.854864</td>\n",
       "    </tr>\n",
       "    <tr>\n",
       "      <th>65</th>\n",
       "      <td>Furious 7</td>\n",
       "      <td>1518.722794</td>\n",
       "    </tr>\n",
       "    <tr>\n",
       "      <th>14</th>\n",
       "      <td>The Avengers</td>\n",
       "      <td>1517.935897</td>\n",
       "    </tr>\n",
       "    <tr>\n",
       "      <th>2</th>\n",
       "      <td>Avengers: Age of Ultron</td>\n",
       "      <td>1403.013963</td>\n",
       "    </tr>\n",
       "    <tr>\n",
       "      <th>46</th>\n",
       "      <td>Black Panther</td>\n",
       "      <td>1348.258224</td>\n",
       "    </tr>\n",
       "    <tr>\n",
       "      <th>98</th>\n",
       "      <td>Jurassic World: Fallen Kingdom</td>\n",
       "      <td>1305.772799</td>\n",
       "    </tr>\n",
       "    <tr>\n",
       "      <th>137</th>\n",
       "      <td>Frozen</td>\n",
       "      <td>1272.469910</td>\n",
       "    </tr>\n",
       "    <tr>\n",
       "      <th>111</th>\n",
       "      <td>Beauty and the Beast</td>\n",
       "      <td>1259.199706</td>\n",
       "    </tr>\n",
       "    <tr>\n",
       "      <th>48</th>\n",
       "      <td>Incredibles 2</td>\n",
       "      <td>1242.520711</td>\n",
       "    </tr>\n",
       "  </tbody>\n",
       "</table>\n",
       "</div>"
      ],
      "text/plain": [
       "                              movie  worldwide_gross_millions\n",
       "0                            Avatar               2776.345279\n",
       "19                   Jurassic World               1648.854864\n",
       "65                        Furious 7               1518.722794\n",
       "14                     The Avengers               1517.935897\n",
       "2           Avengers: Age of Ultron               1403.013963\n",
       "46                    Black Panther               1348.258224\n",
       "98   Jurassic World: Fallen Kingdom               1305.772799\n",
       "137                          Frozen               1272.469910\n",
       "111            Beauty and the Beast               1259.199706\n",
       "48                    Incredibles 2               1242.520711"
      ]
     },
     "execution_count": 79,
     "metadata": {},
     "output_type": "execute_result"
    }
   ],
   "source": [
    "# movies with the highest gross\n",
    "\n",
    "df_biggest_gross.loc[:,['movie','worldwide_gross_millions']]"
   ]
  },
  {
   "cell_type": "code",
   "execution_count": 80,
   "metadata": {},
   "outputs": [
    {
     "name": "stderr",
     "output_type": "stream",
     "text": [
      "<ipython-input-80-effc7bb2be72>:15: UserWarning: FixedFormatter should only be used together with FixedLocator\n",
      "  ax1.set_yticklabels(labels = y,fontsize=14)\n"
     ]
    },
    {
     "data": {
      "image/png": "[encoded data removed]",
      "text/plain": [
       "<Figure size 1440x864 with 1 Axes>"
      ]
     },
     "metadata": {
      "needs_background": "light"
     },
     "output_type": "display_data"
    }
   ],
   "source": [
    "# plotting the data above\n",
    "\n",
    "fig, ax1= plt.subplots(figsize=(20,12))\n",
    "\n",
    "x = list(movie_ratings['movie'].values)\n",
    "y = movie_ratings['vote_average']\n",
    "\n",
    "ax1 = sns.barplot(data = movie_ratings, x = 'movie', y = 'vote_average', hue = 'directors_name', ax = ax1, dodge=False)\n",
    "\n",
    "ax1.set_title('Movies Vs Ratings', fontsize=20)\n",
    "ax1.set_xlabel(\"Movie Titles\",fontsize=18)\n",
    "ax1.set_ylabel(\"Movie Ratings\", fontsize=18)\n",
    "ax1.legend(title='Directors', fontsize=18, loc=1)\n",
    "ax1.set_xticklabels(labels = x, rotation = 60,fontsize=14)\n",
    "ax1.set_yticklabels(labels = y,fontsize=14)\n",
    "\n",
    "ax1.set_xticklabels(labels = x, rotation = 90)\n",
    "ax1.set_ylim(6.5, 8.5)\n",
    "fig.savefig('Movies Vs Ratings - Directors.png')\n",
    "\n"
   ]
  },
  {
   "cell_type": "code",
   "execution_count": 81,
   "metadata": {},
   "outputs": [
    {
     "name": "stderr",
     "output_type": "stream",
     "text": [
      "<ipython-input-81-0b10693e19e3>:12: UserWarning: FixedFormatter should only be used together with FixedLocator\n",
      "  ax2.set_yticklabels(labels = y,fontsize=14)\n"
     ]
    },
    {
     "data": {
      "image/png": "[encoded data removed]",
      "text/plain": [
       "<Figure size 1440x864 with 1 Axes>"
      ]
     },
     "metadata": {
      "needs_background": "light"
     },
     "output_type": "display_data"
    }
   ],
   "source": [
    "fig, ax2= plt.subplots(figsize=(20,12))\n",
    "ax2 = sns.barplot(data = df_biggest_gross, x = 'movie', y = 'worldwide_gross_millions', hue = 'directors_name', ax = ax2, dodge=False)\n",
    "\n",
    "labels = list(df_biggest_gross['movie'])\n",
    "ax2.set_title('Movies Vs Gross', fontsize=20)\n",
    "ax2.set_xlabel(\"Movie Titles\",fontsize=18)\n",
    "ax2.set_ylabel(\"Movie Gross in Millions\", fontsize=18)\n",
    "ax2.set_ylim(1000)\n",
    "ax2.legend(title='Directors', fontsize=18, loc=1)\n",
    "\n",
    "ax2.set_xticklabels(labels = labels, rotation = 60,fontsize=14)\n",
    "ax2.set_yticklabels(labels = y,fontsize=14)\n",
    "\n",
    "fig.savefig('Movies Vs Gross - Directors).png');"
   ]
  },
  {
   "cell_type": "markdown",
   "metadata": {},
   "source": [
    "From the above analysis, one can see the directors responsible for all the highest grossing and rated movies. Those from the highly rated movies include:\n",
    "1. Christopher Nolan (2)\n",
    "2. Quentin Tarantino\n",
    "3. James Gunn\n",
    "4. Tim Miller\n",
    "5. **Joss Whedon**\n",
    "6. **James Cameron**\n",
    "7. George Miller\n",
    "8. Gary Ross\n",
    "9. Shane Black\n",
    "\n",
    "Those from the highest grossing movies include :\n",
    "1. Colin Trevorrow\n",
    "2. James Wan\n",
    "3. **Joss Whedon (2)**\n",
    "4. Ryan Coogler\n",
    "5. J.A. Bayona\n",
    "6. Adam Green\n",
    "7. Christophe Gans\n",
    "8. Brad Bird\n",
    "9. **James Cameron**\n",
    "\n",
    "Directors such as Joss Whedon and James Cameron appear in both lists. These would be directors that the studio should consider to  hire to direct their movies."
   ]
  },
  {
   "cell_type": "markdown",
   "metadata": {},
   "source": [
    " ### 3.2 Does budget affect revenue?"
   ]
  },
  {
   "cell_type": "code",
   "execution_count": 82,
   "metadata": {},
   "outputs": [
    {
     "data": {
      "image/png": "[encoded data removed]",
      "text/plain": [
       "<Figure size 576x432 with 1 Axes>"
      ]
     },
     "metadata": {
      "needs_background": "light"
     },
     "output_type": "display_data"
    }
   ],
   "source": [
    "# plotting a scatterplot\n",
    "\n",
    "fig, ax= plt.subplots(figsize=(8,6))\n",
    "\n",
    "x = df_final['production_budget_millions']\n",
    "y = df_final['movie_profits_millions']\n",
    "\n",
    "ax.scatter(x,y)\n",
    "\n",
    "ax.set_title('Budget Vs Revenue', fontsize=16)\n",
    "ax.set_xlabel(\"Budget in Millions\",fontsize=14)\n",
    "ax.set_ylabel(\"Movie profits in Millions\", fontsize=14)\n",
    "fig.savefig('Budget vs Revenue.png');"
   ]
  },
  {
   "cell_type": "markdown",
   "metadata": {},
   "source": [
    "There is a positive relashionship between between movie budget and movie profits. As the budget increases, the movie profits increase too."
   ]
  },
  {
   "cell_type": "markdown",
   "metadata": {},
   "source": [
    " ### 3.3 Does rating affect revenue?"
   ]
  },
  {
   "cell_type": "code",
   "execution_count": 83,
   "metadata": {},
   "outputs": [
    {
     "data": {
      "image/png": "[encoded data removed]",
      "text/plain": [
       "<Figure size 576x432 with 1 Axes>"
      ]
     },
     "metadata": {
      "needs_background": "light"
     },
     "output_type": "display_data"
    }
   ],
   "source": [
    "# plotting a scatterplot\n",
    "\n",
    "fig, ax= plt.subplots(figsize=(8,6))\n",
    "\n",
    "x = df_final['vote_average']\n",
    "y = df_final['worldwide_gross_millions']\n",
    "\n",
    "ax.scatter(x,y)\n",
    "\n",
    "ax.set_title('Ratings Vs Revenue', fontsize=16)\n",
    "ax.set_xlabel(\"Ratings\",fontsize=14)\n",
    "ax.set_ylabel(\"Worldwide Gross in Millions\", fontsize=14)\n",
    "fig.savefig('Ratings vs Revenue.png');"
   ]
  },
  {
   "cell_type": "markdown",
   "metadata": {},
   "source": [
    "From the above plot, it is possible to deduce that ratings affect revenue. It can be noted that movies with high ratings have a high revenue."
   ]
  },
  {
   "cell_type": "markdown",
   "metadata": {},
   "source": [
    " ### 3.4 What are the genres of the highest grosssing movies in the box office?"
   ]
  },
  {
   "cell_type": "code",
   "execution_count": 84,
   "metadata": {},
   "outputs": [],
   "source": [
    "top100_grossing = df_final.sort_values('worldwide_gross_millions', ascending = False).head(100)"
   ]
  },
  {
   "cell_type": "code",
   "execution_count": 85,
   "metadata": {},
   "outputs": [],
   "source": [
    "# accessing the individual genre element per row\n",
    "\n",
    "movie_genres = []\n",
    "\n",
    "for genre in top100_grossing['genres']:\n",
    "    movie_genres.append(genre.split(','))"
   ]
  },
  {
   "cell_type": "code",
   "execution_count": 86,
   "metadata": {},
   "outputs": [
    {
     "data": {
      "text/plain": [
       "[['Action', ' Sci-Fi'],\n",
       " ['Action', 'Adventure', 'Sci-Fi'],\n",
       " ['Action', 'Crime', 'Thriller'],\n",
       " ['Action', 'Adventure', 'Sci-Fi'],\n",
       " ['Action', 'Adventure', 'Sci-Fi'],\n",
       " ['Action', 'Adventure', 'Sci-Fi'],\n",
       " ['Action', 'Adventure', 'Sci-Fi'],\n",
       " ['Adventure', 'Drama', 'Sport'],\n",
       " ['Drama', 'Fantasy', 'Romance'],\n",
       " ['Action', 'Adventure', 'Animation'],\n",
       " ['Action', 'Crime', 'Thriller'],\n",
       " ['Action', 'Adventure', 'Sci-Fi'],\n",
       " ['Action', 'Adventure', 'Fantasy'],\n",
       " ['Action', 'Adventure', 'Sci-Fi'],\n",
       " ['Action', 'Adventure', 'Thriller'],\n",
       " ['Action', 'Adventure', 'Sci-Fi'],\n",
       " ['Action', 'Thriller'],\n",
       " ['Adventure', 'Animation', 'Comedy'],\n",
       " ['Action', 'Adventure', 'Sci-Fi'],\n",
       " ['Action', 'Adventure', 'Fantasy'],\n",
       " ['Adventure', 'Family', 'Fantasy'],\n",
       " ['Adventure', 'Family', 'Fantasy'],\n",
       " ['Adventure', 'Animation', 'Drama'],\n",
       " ['Action', 'Adventure', 'Comedy'],\n",
       " ['Adventure', 'Drama', 'Family'],\n",
       " ['Adventure', 'Fantasy'],\n",
       " ['Adventure', 'Fantasy'],\n",
       " ['Biography', 'Drama', 'Music'],\n",
       " ['Action', 'Adventure', 'Sci-Fi'],\n",
       " ['Action', 'Adventure', 'Thriller'],\n",
       " ['Action', 'Adventure', 'Fantasy'],\n",
       " ['Action', 'Adventure', 'Sci-Fi'],\n",
       " ['Crime', 'Drama'],\n",
       " ['Action', 'Sci-Fi', 'Thriller'],\n",
       " ['Action', 'Adventure', 'Comedy'],\n",
       " ['Action', 'Adventure', 'Sci-Fi'],\n",
       " ['Action', 'Adventure', 'Fantasy'],\n",
       " ['Adventure', 'Family', 'Fantasy'],\n",
       " ['Action', 'Adventure', 'Comedy'],\n",
       " ['Action', 'Adventure', 'Comedy'],\n",
       " ['Action', 'Adventure', 'Comedy'],\n",
       " ['Action', 'Adventure', 'Sci-Fi'],\n",
       " ['Action', 'Adventure', 'Family'],\n",
       " ['Action', 'Adventure', 'Sci-Fi'],\n",
       " ['Adventure', 'Animation', 'Comedy'],\n",
       " ['Action', 'Adventure', 'Sci-Fi'],\n",
       " ['Action', 'Adventure', 'Fantasy'],\n",
       " ['Adventure', 'Animation', 'Comedy'],\n",
       " ['Action', 'Adventure', 'Drama'],\n",
       " ['Action', 'Adventure', 'Sci-Fi'],\n",
       " ['Adventure', 'Drama', 'Fantasy'],\n",
       " ['Horror', 'Thriller'],\n",
       " ['Drama', 'Sci-Fi', 'Thriller'],\n",
       " ['Action', 'Adventure', 'Sci-Fi'],\n",
       " ['Action', 'Adventure', 'Fantasy'],\n",
       " ['Action', 'Adventure', 'Sci-Fi'],\n",
       " ['Adventure', 'Drama', 'Sci-Fi'],\n",
       " ['Action', 'Adventure', 'Animation'],\n",
       " ['Action', 'Adventure', 'Fantasy'],\n",
       " ['Adventure', 'Drama', 'Sci-Fi'],\n",
       " ['Action', 'Adventure', 'Comedy'],\n",
       " ['Adventure', 'Family', 'Fantasy'],\n",
       " ['Action', 'Adventure', 'Sci-Fi'],\n",
       " ['Action', 'Adventure', 'Fantasy'],\n",
       " ['Action', 'Crime', 'Thriller'],\n",
       " ['Action', 'Adventure', 'Comedy'],\n",
       " ['Action', 'Adventure', 'Sci-Fi'],\n",
       " ['Adventure', 'Drama', 'Fantasy'],\n",
       " ['Action', 'Drama', 'Sci-Fi'],\n",
       " ['Action', 'Adventure', 'Animation'],\n",
       " ['Drama', 'Fantasy', 'Romance'],\n",
       " ['Sci-Fi'],\n",
       " ['Action', 'Adventure', 'Sci-Fi'],\n",
       " ['Comedy', 'Mystery'],\n",
       " ['Action', 'Adventure', 'Sci-Fi'],\n",
       " ['Drama', 'Romance', 'Thriller'],\n",
       " ['Adventure', 'Animation', 'Comedy'],\n",
       " ['Action', 'Adventure', 'Fantasy'],\n",
       " ['Comedy', 'Fantasy'],\n",
       " ['Action', 'Adventure', 'Animation'],\n",
       " ['Drama'],\n",
       " ['Action', 'Biography', 'Drama'],\n",
       " ['Action', 'Adventure', 'Sci-Fi'],\n",
       " ['Action', 'Adventure', 'Crime'],\n",
       " ['Musical'],\n",
       " ['Action', 'Adventure', 'Biography'],\n",
       " ['Action', 'Adventure', 'Horror'],\n",
       " ['Action', 'Horror', 'Sci-Fi'],\n",
       " ['Action', 'Adventure', 'Sci-Fi'],\n",
       " ['Adventure', 'Animation', 'Comedy'],\n",
       " ['Action', 'Adventure', 'Comedy'],\n",
       " ['Drama', 'Fantasy', 'Mystery'],\n",
       " ['Adventure', 'Animation', 'Comedy'],\n",
       " ['Action', 'Drama', 'History'],\n",
       " ['Adventure'],\n",
       " ['Adventure', 'Animation', 'Comedy'],\n",
       " ['Action', 'Adventure', 'Fantasy'],\n",
       " ['Adventure', 'Animation', 'Comedy'],\n",
       " ['Adventure', 'Family', 'Fantasy'],\n",
       " ['Action', 'Adventure', 'Drama']]"
      ]
     },
     "execution_count": 86,
     "metadata": {},
     "output_type": "execute_result"
    }
   ],
   "source": [
    "movie_genres"
   ]
  },
  {
   "cell_type": "code",
   "execution_count": 87,
   "metadata": {},
   "outputs": [],
   "source": [
    "# accessing all genre elements in the rows\n",
    "\n",
    "movie_genres_list = []\n",
    "\n",
    "for data in movie_genres:\n",
    "    for item in data:\n",
    "        movie_genres_list.append(item)"
   ]
  },
  {
   "cell_type": "code",
   "execution_count": 88,
   "metadata": {},
   "outputs": [],
   "source": [
    "# accessing all the unique genres in the rows\n",
    "\n",
    "unique_genres = []\n",
    "\n",
    "for item in movie_genres_list:\n",
    "    if item not in unique_genres:\n",
    "        unique_genres.append(item)"
   ]
  },
  {
   "cell_type": "code",
   "execution_count": 89,
   "metadata": {},
   "outputs": [],
   "source": [
    "# finding how many films were made per genre\n",
    "\n",
    "m_count = Counter(movie_genres_list)"
   ]
  },
  {
   "cell_type": "code",
   "execution_count": 90,
   "metadata": {},
   "outputs": [
    {
     "data": {
      "text/plain": [
       "Counter({'Action': 64,\n",
       "         ' Sci-Fi': 1,\n",
       "         'Adventure': 77,\n",
       "         'Sci-Fi': 31,\n",
       "         'Crime': 5,\n",
       "         'Thriller': 10,\n",
       "         'Drama': 20,\n",
       "         'Sport': 1,\n",
       "         'Fantasy': 23,\n",
       "         'Romance': 3,\n",
       "         'Animation': 13,\n",
       "         'Comedy': 18,\n",
       "         'Family': 7,\n",
       "         'Biography': 3,\n",
       "         'Music': 1,\n",
       "         'Horror': 3,\n",
       "         'Mystery': 2,\n",
       "         'Musical': 1,\n",
       "         'History': 1})"
      ]
     },
     "execution_count": 90,
     "metadata": {},
     "output_type": "execute_result"
    }
   ],
   "source": [
    "m_count"
   ]
  },
  {
   "cell_type": "markdown",
   "metadata": {},
   "source": [
    "It is noted that there are 2 Sci-Fi categories, these are merged as follows."
   ]
  },
  {
   "cell_type": "code",
   "execution_count": 91,
   "metadata": {},
   "outputs": [],
   "source": [
    "# deleting the sci-fi key-value pair with space\n",
    "\n",
    "m_count['Sci-Fi'] = 32\n",
    "del m_count[' Sci-Fi']"
   ]
  },
  {
   "cell_type": "code",
   "execution_count": 92,
   "metadata": {},
   "outputs": [],
   "source": [
    "# separating the genres and the count\n",
    "\n",
    "genre = []\n",
    "count = []\n",
    "\n",
    "for key, values in m_count.items():\n",
    "    genre.append(key)\n",
    "    count.append(values)"
   ]
  },
  {
   "cell_type": "code",
   "execution_count": 93,
   "metadata": {},
   "outputs": [
    {
     "data": {
      "image/png": "[encoded data removed]",
      "text/plain": [
       "<Figure size 720x576 with 1 Axes>"
      ]
     },
     "metadata": {
      "needs_background": "light"
     },
     "output_type": "display_data"
    }
   ],
   "source": [
    "# plotting the data above\n",
    "\n",
    "fig, ax = plt.subplots(figsize=(10,8))\n",
    "\n",
    "x = genre\n",
    "y = count\n",
    "\n",
    "ax = sns.barplot(x = x, y = y, ax = ax)\n",
    "\n",
    "ax.set_title('Movies Genre Vs Movie Count', fontsize=16)\n",
    "ax.set_xlabel(\"Movie Genre\",fontsize=14)\n",
    "ax.set_ylabel(\"Movie Count\", fontsize=14);\n",
    "\n",
    "ax.set_xticklabels(labels = x, rotation = 60)\n",
    "fig.savefig('Movies Genres Vs Movie Count.png');"
   ]
  },
  {
   "cell_type": "markdown",
   "metadata": {},
   "source": [
    "It can be noted that the among the top 100 highest grossing , the genres with the highest movie counts are :\n",
    "1. Adventure - 77\n",
    "2. Action -64\n",
    "3. Sci-Fi -32"
   ]
  },
  {
   "cell_type": "markdown",
   "metadata": {},
   "source": [
    "### 3.5 Is there a best time to debut the movies?"
   ]
  },
  {
   "cell_type": "code",
   "execution_count": 94,
   "metadata": {},
   "outputs": [
    {
     "data": {
      "text/html": [
       "<div>\n",
       "<style scoped>\n",
       "    .dataframe tbody tr th:only-of-type {\n",
       "        vertical-align: middle;\n",
       "    }\n",
       "\n",
       "    .dataframe tbody tr th {\n",
       "        vertical-align: top;\n",
       "    }\n",
       "\n",
       "    .dataframe thead th {\n",
       "        text-align: right;\n",
       "    }\n",
       "</style>\n",
       "<table border=\"1\" class=\"dataframe\">\n",
       "  <thead>\n",
       "    <tr style=\"text-align: right;\">\n",
       "      <th></th>\n",
       "      <th>release_date</th>\n",
       "      <th>movie</th>\n",
       "      <th>production_budget_millions</th>\n",
       "      <th>domestic_gross_millions</th>\n",
       "      <th>worldwide_gross_millions</th>\n",
       "      <th>vote_average</th>\n",
       "      <th>vote_count</th>\n",
       "      <th>start_year</th>\n",
       "      <th>genres</th>\n",
       "      <th>directors_name</th>\n",
       "      <th>movie_profits_millions</th>\n",
       "    </tr>\n",
       "  </thead>\n",
       "  <tbody>\n",
       "    <tr>\n",
       "      <th>0</th>\n",
       "      <td>18-Dec-09</td>\n",
       "      <td>Avatar</td>\n",
       "      <td>425.0</td>\n",
       "      <td>760.507625</td>\n",
       "      <td>2776.345279</td>\n",
       "      <td>7.4</td>\n",
       "      <td>18676</td>\n",
       "      <td>2009</td>\n",
       "      <td>Action, Sci-Fi</td>\n",
       "      <td>James Cameron</td>\n",
       "      <td>2351.345279</td>\n",
       "    </tr>\n",
       "    <tr>\n",
       "      <th>1</th>\n",
       "      <td>20-May-11</td>\n",
       "      <td>Pirates of the Caribbean: On Stranger Tides</td>\n",
       "      <td>410.6</td>\n",
       "      <td>241.063875</td>\n",
       "      <td>1045.663875</td>\n",
       "      <td>6.4</td>\n",
       "      <td>8571</td>\n",
       "      <td>2011</td>\n",
       "      <td>Action,Adventure,Fantasy</td>\n",
       "      <td>Rob Marshall</td>\n",
       "      <td>635.063875</td>\n",
       "    </tr>\n",
       "  </tbody>\n",
       "</table>\n",
       "</div>"
      ],
      "text/plain": [
       "  release_date                                        movie  \\\n",
       "0    18-Dec-09                                       Avatar   \n",
       "1    20-May-11  Pirates of the Caribbean: On Stranger Tides   \n",
       "\n",
       "   production_budget_millions  domestic_gross_millions  \\\n",
       "0                       425.0               760.507625   \n",
       "1                       410.6               241.063875   \n",
       "\n",
       "   worldwide_gross_millions  vote_average  vote_count  start_year  \\\n",
       "0               2776.345279           7.4       18676        2009   \n",
       "1               1045.663875           6.4        8571        2011   \n",
       "\n",
       "                     genres directors_name  movie_profits_millions  \n",
       "0            Action, Sci-Fi  James Cameron             2351.345279  \n",
       "1  Action,Adventure,Fantasy   Rob Marshall              635.063875  "
      ]
     },
     "execution_count": 94,
     "metadata": {},
     "output_type": "execute_result"
    }
   ],
   "source": [
    "df_final.head(2)"
   ]
  },
  {
   "cell_type": "code",
   "execution_count": 95,
   "metadata": {},
   "outputs": [],
   "source": [
    "# convert release date to date-time\n",
    "\n",
    "df_final['release_date'] = pd.to_datetime(df_final['release_date'])"
   ]
  },
  {
   "cell_type": "code",
   "execution_count": 96,
   "metadata": {},
   "outputs": [
    {
     "data": {
      "text/html": [
       "<div>\n",
       "<style scoped>\n",
       "    .dataframe tbody tr th:only-of-type {\n",
       "        vertical-align: middle;\n",
       "    }\n",
       "\n",
       "    .dataframe tbody tr th {\n",
       "        vertical-align: top;\n",
       "    }\n",
       "\n",
       "    .dataframe thead th {\n",
       "        text-align: right;\n",
       "    }\n",
       "</style>\n",
       "<table border=\"1\" class=\"dataframe\">\n",
       "  <thead>\n",
       "    <tr style=\"text-align: right;\">\n",
       "      <th></th>\n",
       "      <th>release_date</th>\n",
       "      <th>movie</th>\n",
       "      <th>production_budget_millions</th>\n",
       "      <th>domestic_gross_millions</th>\n",
       "      <th>worldwide_gross_millions</th>\n",
       "      <th>vote_average</th>\n",
       "      <th>vote_count</th>\n",
       "      <th>start_year</th>\n",
       "      <th>genres</th>\n",
       "      <th>directors_name</th>\n",
       "      <th>movie_profits_millions</th>\n",
       "    </tr>\n",
       "  </thead>\n",
       "  <tbody>\n",
       "    <tr>\n",
       "      <th>0</th>\n",
       "      <td>2009-12-18</td>\n",
       "      <td>Avatar</td>\n",
       "      <td>425.0</td>\n",
       "      <td>760.507625</td>\n",
       "      <td>2776.345279</td>\n",
       "      <td>7.4</td>\n",
       "      <td>18676</td>\n",
       "      <td>2009</td>\n",
       "      <td>Action, Sci-Fi</td>\n",
       "      <td>James Cameron</td>\n",
       "      <td>2351.345279</td>\n",
       "    </tr>\n",
       "    <tr>\n",
       "      <th>1</th>\n",
       "      <td>2011-05-20</td>\n",
       "      <td>Pirates of the Caribbean: On Stranger Tides</td>\n",
       "      <td>410.6</td>\n",
       "      <td>241.063875</td>\n",
       "      <td>1045.663875</td>\n",
       "      <td>6.4</td>\n",
       "      <td>8571</td>\n",
       "      <td>2011</td>\n",
       "      <td>Action,Adventure,Fantasy</td>\n",
       "      <td>Rob Marshall</td>\n",
       "      <td>635.063875</td>\n",
       "    </tr>\n",
       "  </tbody>\n",
       "</table>\n",
       "</div>"
      ],
      "text/plain": [
       "  release_date                                        movie  \\\n",
       "0   2009-12-18                                       Avatar   \n",
       "1   2011-05-20  Pirates of the Caribbean: On Stranger Tides   \n",
       "\n",
       "   production_budget_millions  domestic_gross_millions  \\\n",
       "0                       425.0               760.507625   \n",
       "1                       410.6               241.063875   \n",
       "\n",
       "   worldwide_gross_millions  vote_average  vote_count  start_year  \\\n",
       "0               2776.345279           7.4       18676        2009   \n",
       "1               1045.663875           6.4        8571        2011   \n",
       "\n",
       "                     genres directors_name  movie_profits_millions  \n",
       "0            Action, Sci-Fi  James Cameron             2351.345279  \n",
       "1  Action,Adventure,Fantasy   Rob Marshall              635.063875  "
      ]
     },
     "execution_count": 96,
     "metadata": {},
     "output_type": "execute_result"
    }
   ],
   "source": [
    "df_final.head(2)"
   ]
  },
  {
   "cell_type": "code",
   "execution_count": 97,
   "metadata": {
    "scrolled": true
   },
   "outputs": [
    {
     "data": {
      "text/plain": [
       "0   2009-12-18\n",
       "1   2011-05-20\n",
       "2   2015-05-01\n",
       "Name: release_date, dtype: datetime64[ns]"
      ]
     },
     "execution_count": 97,
     "metadata": {},
     "output_type": "execute_result"
    }
   ],
   "source": [
    "df_final['release_date'].head(3)"
   ]
  },
  {
   "cell_type": "code",
   "execution_count": 98,
   "metadata": {},
   "outputs": [],
   "source": [
    "# accessing the release month of the movies and creating a new column for it\n",
    "\n",
    "df_final['release_month'] = df_final['release_date'].dt.month"
   ]
  },
  {
   "cell_type": "code",
   "execution_count": 99,
   "metadata": {},
   "outputs": [
    {
     "data": {
      "text/plain": [
       "0    12\n",
       "1     5\n",
       "2     5\n",
       "Name: release_month, dtype: int64"
      ]
     },
     "execution_count": 99,
     "metadata": {},
     "output_type": "execute_result"
    }
   ],
   "source": [
    "df_final['release_month'].head(3)"
   ]
  },
  {
   "cell_type": "code",
   "execution_count": 100,
   "metadata": {},
   "outputs": [],
   "source": [
    "# retrieving the mean gross of the movies per month\n",
    "\n",
    "month_gross_mean = df_final.groupby('release_month')['worldwide_gross_millions'].mean()"
   ]
  },
  {
   "cell_type": "code",
   "execution_count": 101,
   "metadata": {},
   "outputs": [],
   "source": [
    "# converting the above to a dataframe\n",
    "\n",
    "monthly_mean_gross = pd.DataFrame(month_gross_mean)\n",
    "monthly_mean_gross.reset_index(drop=False, inplace=True)"
   ]
  },
  {
   "cell_type": "code",
   "execution_count": 102,
   "metadata": {
    "scrolled": true
   },
   "outputs": [
    {
     "data": {
      "image/png": "[encoded data removed]",
      "text/plain": [
       "<Figure size 720x576 with 1 Axes>"
      ]
     },
     "metadata": {
      "needs_background": "light"
     },
     "output_type": "display_data"
    }
   ],
   "source": [
    "# plotting the data above\n",
    "\n",
    "fig, ax = plt.subplots(figsize=(10,8))\n",
    "\n",
    "x = monthly_mean_gross['release_month']\n",
    "y = monthly_mean_gross['worldwide_gross_millions']\n",
    "\n",
    "ax = sns.barplot(x = x, y = y, ax = ax)\n",
    "\n",
    "ax.set_title('Release Month Vs Mean Gross in Millions', fontsize=16)\n",
    "ax.set_xlabel(\"Release month\",fontsize=14)\n",
    "ax.set_ylabel(\"Mean Gross in Millions\", fontsize=14);\n",
    "\n",
    "#ax.set_xticklabels(labels = x)\n",
    "fig.savefig('Release Month Vs Mean Gross in Millions.png');"
   ]
  },
  {
   "cell_type": "markdown",
   "metadata": {},
   "source": [
    "It can be noted that May, June and July have the highest gross. This means movies that were released during these months grossed more. These months can be adopted by Microsoft for when they release their movies. This may be attributed to the months falling within summer."
   ]
  },
  {
   "cell_type": "markdown",
   "metadata": {},
   "source": [
    "# 4. Conclusions"
   ]
  },
  {
   "cell_type": "markdown",
   "metadata": {},
   "source": [
    "1. Movies with a high budget make more profits as compared to those with a large budget.\n",
    "2. High rated movies gross higher, hence high profit margins.\n",
    "3. Adventure, action and Science fiction genre of movies are the best to venture into since they gross the highest and have a high count of numbers.\n",
    "4. Movies released in May, June and July grossed the highest as compared to the other months."
   ]
  },
  {
   "cell_type": "code",
   "execution_count": null,
   "metadata": {},
   "outputs": [],
   "source": []
  }
 ],
 "metadata": {
  "kernelspec": {
   "display_name": "Python 3",
   "language": "python",
   "name": "python3"
  },
  "language_info": {
   "codemirror_mode": {
    "name": "ipython",
    "version": 3
   },
   "file_extension": ".py",
   "mimetype": "text/x-python",
   "name": "python",
   "nbconvert_exporter": "python",
   "pygments_lexer": "ipython3",
   "version": "3.8.5"
  }
 },
 "nbformat": 4,
 "nbformat_minor": 4
}
